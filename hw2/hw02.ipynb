{
 "cells": [
  {
   "cell_type": "markdown",
   "metadata": {},
   "source": [
    "# Biostat 257 Homework 2\n",
    "\n",
    "**Due Apr 30 @ 11:59PM**"
   ]
  },
  {
   "cell_type": "code",
   "execution_count": 1,
   "metadata": {},
   "outputs": [
    {
     "name": "stdout",
     "output_type": "stream",
     "text": [
      "Julia Version 1.6.0\n",
      "Commit f9720dc2eb (2021-03-24 12:55 UTC)\n",
      "Platform Info:\n",
      "  OS: macOS (x86_64-apple-darwin19.6.0)\n",
      "  CPU: Intel(R) Core(TM) i9-9880H CPU @ 2.30GHz\n",
      "  WORD_SIZE: 64\n",
      "  LIBM: libopenlibm\n",
      "  LLVM: libLLVM-11.0.1 (ORCJIT, skylake)\n"
     ]
    }
   ],
   "source": [
    "versioninfo()"
   ]
  },
  {
   "cell_type": "markdown",
   "metadata": {},
   "source": [
    "Consider a linear mixed effects model\n",
    "$$\n",
    "    \\mathbf{Y}_i = \\mathbf{X}_i \\boldsymbol{\\beta} + \\mathbf{Z}_i \\boldsymbol{\\gamma} + \\boldsymbol{\\epsilon}_i, \\quad i=1,\\ldots,n,\n",
    "$$\n",
    "where   \n",
    "- $\\mathbf{Y}_i \\in \\mathbb{R}^{n_i}$ is the response vector of $i$-th individual,  \n",
    "- $\\mathbf{X}_i \\in \\mathbb{R}^{n_i \\times p}$ is the fixed effect predictor matrix of $i$-th individual,  \n",
    "- $\\mathbf{Z}_i \\in \\mathbb{R}^{n_i \\times q}$ is the random effect predictor matrix of $i$-th individual,  \n",
    "- $\\boldsymbol{\\epsilon}_i \\in \\mathbb{R}^{n_i}$ are multivariate normal $N(\\mathbf{0}_{n_i},\\sigma^2 \\mathbf{I}_{n_i})$,  \n",
    "- $\\boldsymbol{\\beta} \\in \\mathbb{R}^p$ are fixed effects, and  \n",
    "- $\\boldsymbol{\\gamma} \\in \\mathbb{R}^q$ are random effects assumed to be $N(\\mathbf{0}_q, \\boldsymbol{\\Sigma}_{q \\times q}$) independent of $\\boldsymbol{\\epsilon}_i$."
   ]
  },
  {
   "cell_type": "markdown",
   "metadata": {},
   "source": [
    "## Q1 Formula (10 pts)\n",
    "\n",
    "Write down the log-likelihood of the $i$-th datum $(\\mathbf{y}_i, \\mathbf{X}_i, \\mathbf{Z}_i)$ given parameters $(\\boldsymbol{\\beta}, \\boldsymbol{\\Sigma}, \\sigma^2)$. \n",
    "\n",
    "**Hint:** For non-statisticians, feel free to ask for help in class or office hours. Point of this exercise is computing not statistics."
   ]
  },
  {
   "cell_type": "markdown",
   "metadata": {},
   "source": [
    "$$\n",
    "\\mathbf{Y}_i \\sim N(\\mathbf{X}_i \\boldsymbol{\\beta}, \\sigma^2 \\mathbf{I}_{n_i} + \\mathbf{Z}_i \\boldsymbol{\\Sigma}_{q \\times q} \\mathbf{Z}_i^T)\n",
    "$$"
   ]
  },
  {
   "cell_type": "markdown",
   "metadata": {},
   "source": [
    "$$\n",
    "\\ell = - \\frac{n_i}{2} \\log 2\\pi - \n",
    "\\frac{1}{2} \\log \\text{det}\n",
    "(\\sigma^2 \\mathbf{I}_{n_i} + \\mathbf{Z}_i \\boldsymbol{\\Sigma}_{q \\times q} \\mathbf{Z}_i^T) - \n",
    "\\frac{1}{2} (\\boldsymbol{y}_i - \\mathbf{X}_i \\boldsymbol{\\beta})^T  \n",
    "(\\sigma^2 \\mathbf{I}_{n_i} + \\mathbf{Z}_i \\boldsymbol{\\Sigma}_{q \\times q} \\mathbf{Z}_i^T)^{-1} (\\boldsymbol{y}_i - \\mathbf{X}_i \\boldsymbol{\\beta})\n",
    "$$"
   ]
  },
  {
   "cell_type": "markdown",
   "metadata": {},
   "source": [
    "If we let $\\boldsymbol{\\Omega} = \\mathbf{I}_{n_i} + \\frac{1}{\\sigma^2}\\mathbf{Z}_i \\boldsymbol{\\Sigma} \\mathbf{Z}_i^T = \\mathbf{I}_{n_i} + \\frac{1}{\\sigma^2}\\mathbf{Z}_i \\mathbf{L} \\mathbf{L}^T \\mathbf{Z}_i^T$, $\\mathbf{M} = \\mathbf{I}_{q} + \\frac{1}{\\sigma^2} \\mathbf{L}^T \\mathbf{Z}_i^T \\mathbf{Z}_i \\mathbf{L}$, and $\\boldsymbol{r}_i = \\boldsymbol{y}_i - \\mathbf{X}_i \\boldsymbol{\\beta}$,"
   ]
  },
  {
   "cell_type": "markdown",
   "metadata": {},
   "source": [
    "$$\n",
    "\\text{det}(\\boldsymbol{\\Omega}) = (\\sigma^2)^{n_i} \\text{det}(\\mathbf{M})\n",
    "$$"
   ]
  },
  {
   "cell_type": "markdown",
   "metadata": {},
   "source": [
    "$$\n",
    "\\boldsymbol{\\Omega}^{-1} = \\mathbf{I}_{n_i} - \\frac{1}{\\sigma^2} \\mathbf{Z}_i \\mathbf{L} \\mathbf{M}^{-1} \\mathbf{L}^T \\mathbf{Z}_i^T\n",
    "$$"
   ]
  },
  {
   "cell_type": "markdown",
   "metadata": {},
   "source": [
    "$$\n",
    "\\therefore \\ell = - \\frac{n_i}{2} \\log 2\\pi - \n",
    "\\frac{n_i}{2} \\log \\sigma^2 -\n",
    "\\frac{1}{2} \\log \\text{det}(\\mathbf{M}) - \n",
    "\\frac{1}{2\\sigma^2} \\boldsymbol{r}_i^T  \n",
    "(\\mathbf{I}_{n_i} - \\frac{1}{\\sigma^2} \\mathbf{Z}_i \\mathbf{L} \\mathbf{M}^{-1} \\mathbf{L}^T \\mathbf{Z}_i^T)\n",
    "\\boldsymbol{r}_i\n",
    "$$"
   ]
  },
  {
   "cell_type": "markdown",
   "metadata": {},
   "source": [
    "## Q2 Start-up code\n",
    "\n",
    "Use the following template to define a type `LmmObs` that holds an LMM datum $(\\mathbf{y}_i, \\mathbf{X}_i, \\mathbf{Z}_i)$. "
   ]
  },
  {
   "cell_type": "code",
   "execution_count": 2,
   "metadata": {},
   "outputs": [
    {
     "data": {
      "text/plain": [
       "LmmObs"
      ]
     },
     "execution_count": 2,
     "metadata": {},
     "output_type": "execute_result"
    }
   ],
   "source": [
    "# define a type that holds LMM datum\n",
    "struct LmmObs{T <: AbstractFloat}\n",
    "    # data\n",
    "    y :: Vector{T}\n",
    "    X :: Matrix{T}\n",
    "    Z :: Matrix{T}\n",
    "    # working arrays\n",
    "    # whatever intermediate vectors/arrays you may want to pre-allocate\n",
    "    XᵗXβ       :: Vector{T}\n",
    "    xtx        :: Matrix{T}\n",
    "    ztx        :: Matrix{T}\n",
    "    ztz        :: Matrix{T}\n",
    "    M          :: Matrix{T}\n",
    "    yty        :: Float64\n",
    "    xty        :: Vector{T}\n",
    "    zty        :: Vector{T}\n",
    "    LᵗZᵗr      :: Vector{T}\n",
    "end\n",
    "\n",
    "# constructor\n",
    "function LmmObs(\n",
    "        y::Vector{T}, \n",
    "        X::Matrix{T}, \n",
    "        Z::Matrix{T}\n",
    "        ) where T <: AbstractFloat\n",
    "    XᵗXβ       = Vector{T}(undef, size(X, 2))\n",
    "    xtx        = transpose(X) * X\n",
    "    ztx        = transpose(Z) * X\n",
    "    ztz        = transpose(Z) * Z\n",
    "    M          = similar(ztz)\n",
    "    yty        = transpose(y) * y \n",
    "    xty        = transpose(X) * y\n",
    "    zty        = transpose(Z) * y\n",
    "    LᵗZᵗr      = Vector{T}(undef, size(Z, 2))\n",
    "    LmmObs(y, X, Z, XᵗXβ, xtx, ztx, ztz, M, yty, xty, zty, LᵗZᵗr)\n",
    "end"
   ]
  },
  {
   "cell_type": "markdown",
   "metadata": {},
   "source": [
    "Write a function, with interface   \n",
    "```julia\n",
    "logl!(obs, β, L, σ²)\n",
    "```\n",
    "that evaluates the log-likelihood of the $i$-th datum. Here `L` is the lower triangular Cholesky factor from the Cholesky decomposition `Σ=LL'`. Make your code efficient in the $n_i \\gg q$ case. Think the intensive longitudinal measurement setting.  "
   ]
  },
  {
   "cell_type": "code",
   "execution_count": 3,
   "metadata": {},
   "outputs": [
    {
     "data": {
      "text/plain": [
       "logl! (generic function with 1 method)"
      ]
     },
     "execution_count": 3,
     "metadata": {},
     "output_type": "execute_result"
    }
   ],
   "source": [
    "function logl!(\n",
    "        obs :: LmmObs{T}, \n",
    "        β   :: Vector{T}, \n",
    "        L   :: Matrix{T}, \n",
    "        σ²  :: T) where T <: AbstractFloat\n",
    "    n, p, q = size(obs.X, 1), size(obs.X, 2), size(obs.Z, 2)    \n",
    "    \n",
    "    # compute M = I + LᵗZᵗZL / σ²\n",
    "    copyto!(obs.M, obs.ztz)\n",
    "    BLAS.trmm!('R', 'L', 'N', 'N', 1.0, L, obs.M)\n",
    "    BLAS.trmm!('L', 'L', 'T', 'N', 1.0, L, obs.M)\n",
    "    obs.M .= obs.M ./ σ²\n",
    "    for i in 1:q\n",
    "        obs.M[i, i] += 1.0\n",
    "    end\n",
    "    LAPACK.potrf!('U', obs.M)  \n",
    "    \n",
    "    # compute determinant\n",
    "    detM = n / 2 * log(σ²) + logdet(UpperTriangular(obs.M))\n",
    "    \n",
    "    # compute rᵗr = yᵗy - 2βᵗXᵗy + βᵗXᵗXβ\n",
    "    BLAS.gemv!('N', 1.0, obs.xtx, β, 0.0, obs.XᵗXβ)\n",
    "    rᵗr = obs.yty - 2 * dot(obs.xty, β) + dot(obs.XᵗXβ, β)\n",
    "    \n",
    "    # compute rᵗZLM⁻¹LᵗZᵗr\n",
    "    copyto!(obs.LᵗZᵗr, obs.zty)\n",
    "    BLAS.gemv!('N', -1.0, obs.ztx, β, 1.0, obs.LᵗZᵗr)\n",
    "    BLAS.trmv!('L', 'T', 'N', L, obs.LᵗZᵗr)\n",
    "    BLAS.trsv!('U', 'T', 'N', obs.M, obs.LᵗZᵗr)\n",
    "    rᵗZLM⁻¹LᵗZᵗr = dot(obs.LᵗZᵗr, obs.LᵗZᵗr)\n",
    "\n",
    "    # compute log-likelihood\n",
    "    loglike = - n / 2 * log(2π) - detM - 1 / (2 * σ²) * rᵗr +\n",
    "        1 / (2 * σ²^2) * rᵗZLM⁻¹LᵗZᵗr\n",
    "    \n",
    "    return loglike\n",
    "end"
   ]
  },
  {
   "cell_type": "markdown",
   "metadata": {},
   "source": [
    "### Note on several ways to increase efficiency:\n",
    "+ We can decrease computation and the number of FLOPS by operating at the level of $p$ and $q$, not $n_i$. Along the same lines, we can pre-calculate sufficient statistics. We can also leverage the structure inherent in matrix (e.g. `LowerTriangular`), taking full advantage of multiple dispatch in Julia.\n",
    "+ We can decrease memory mapping by pre-allocation.\n",
    "+ BLAS seemed in general faster than inplace functions, so when there are multiple ways of writing the same function as below, we can go with BLAS.\n",
    "\n",
    "```\n",
    "BLAS.trmm!('R', 'L', 'N', 'N', 1.0, L, obs.M) ≈ rmul!(obs.M, LowerTriangular(L))\n",
    "BLAS.trmm!('L', 'L', 'T', 'N', 1.0, L, obs.M) ≈ lmul!(transpose(LowerTriangular(L)), obs.M)\n",
    "LAPACK.potrf!('U', obs.M) ≈ cholesky!(Symmetric(obs.M))\n",
    "BLAS.trmv!('L', 'T', 'N', L, obs.LᵗZᵗr) ≈ lmul!(transpose(LowerTriangular(L)), obs.LᵗZᵗr)\n",
    "BLAS.gemv!('N', 1.0, obs.xtx, β, 0.0, obs.XᵗXβ) ≈ mul!(obs.XᵗXβ, obs.xtx, β)\n",
    "BLAS.gemv!('N', -1.0, obs.ztx, β, 1.0, obs.LᵗZᵗr) ≈ mul!(obs.LᵗZᵗr, obs.ztx, β, 1.0, -1.0)\n",
    "BLAS.trsv!('U', 'T', 'N', obs.M, obs.LᵗZᵗr) ≈ ldiv!(transpose(UpperTriangular(obs.M)), obs.LᵗZᵗr)\n",
    "```"
   ]
  },
  {
   "cell_type": "markdown",
   "metadata": {},
   "source": [
    "**Hint**: This function shouldn't be very long. Mine, obeying 80-character rule, is 25 lines. If you find yourself writing very long code, you're on the wrong track. Think about algorithm first then use BLAS functions to reduce memory allocations."
   ]
  },
  {
   "cell_type": "markdown",
   "metadata": {},
   "source": [
    "## Q3 Correctness (15 pts)\n",
    "\n",
    "Compare your result (both accuracy and timing) to the [Distributions.jl](https://juliastats.org/Distributions.jl/stable/multivariate/#Distributions.AbstractMvNormal) package using following data."
   ]
  },
  {
   "cell_type": "code",
   "execution_count": 4,
   "metadata": {
    "scrolled": true
   },
   "outputs": [],
   "source": [
    "using BenchmarkTools, Distributions, LinearAlgebra, Random\n",
    "\n",
    "Random.seed!(257)\n",
    "# dimension\n",
    "n, p, q = 2000, 5, 3\n",
    "# predictors\n",
    "X  = [ones(n) randn(n, p - 1)]\n",
    "Z  = [ones(n) randn(n, q - 1)]\n",
    "# parameter values\n",
    "β  = [2.0; -1.0; rand(p - 2)]\n",
    "σ² = 1.5\n",
    "Σ  = fill(0.1, q, q) + 0.9I\n",
    "# generate y\n",
    "y  = X * β + Z * rand(MvNormal(Σ)) + sqrt(σ²) * randn(n)\n",
    "# form an LmmObs object\n",
    "obs = LmmObs(y, X, Z);"
   ]
  },
  {
   "cell_type": "markdown",
   "metadata": {},
   "source": [
    "This is the standard way to evaluate log-density of a multivariate normal, using the Distributions.jl package. Let's evaluate the log-likelihood of this datum."
   ]
  },
  {
   "cell_type": "code",
   "execution_count": 5,
   "metadata": {},
   "outputs": [
    {
     "data": {
      "text/plain": [
       "-3261.917755918759"
      ]
     },
     "execution_count": 5,
     "metadata": {},
     "output_type": "execute_result"
    }
   ],
   "source": [
    "μ  = X * β\n",
    "Ω  = Z * Σ * transpose(Z) +  σ² * I\n",
    "mvn = MvNormal(μ, Symmetric(Ω)) # MVN(μ, Σ)\n",
    "logpdf(mvn, y)"
   ]
  },
  {
   "cell_type": "markdown",
   "metadata": {},
   "source": [
    "Check that your answer matches that from Distributions.jl"
   ]
  },
  {
   "cell_type": "code",
   "execution_count": 6,
   "metadata": {
    "scrolled": true
   },
   "outputs": [
    {
     "data": {
      "text/plain": [
       "-3261.9177559187606"
      ]
     },
     "execution_count": 6,
     "metadata": {},
     "output_type": "execute_result"
    }
   ],
   "source": [
    "L = Matrix(cholesky(Σ).L)\n",
    "logl!(obs, β, L, σ²)"
   ]
  },
  {
   "cell_type": "markdown",
   "metadata": {},
   "source": [
    "**You will lose all 15 + 30 + 30 = 75 points** if the following statement throws `AssertionError`."
   ]
  },
  {
   "cell_type": "code",
   "execution_count": 7,
   "metadata": {},
   "outputs": [],
   "source": [
    "@assert logl!(obs, β, Matrix(cholesky(Σ).L), σ²) ≈ logpdf(mvn, y)"
   ]
  },
  {
   "cell_type": "markdown",
   "metadata": {},
   "source": [
    "## Q4 Efficiency (30 pts)\n",
    "\n",
    "Benchmarking your code and compare to the Distributions.jl function `logpdf`."
   ]
  },
  {
   "cell_type": "code",
   "execution_count": 8,
   "metadata": {},
   "outputs": [
    {
     "data": {
      "text/plain": [
       "BenchmarkTools.Trial: \n",
       "  memory estimate:  30.55 MiB\n",
       "  allocs estimate:  5\n",
       "  --------------\n",
       "  minimum time:     8.832 ms (0.00% GC)\n",
       "  median time:      10.458 ms (0.00% GC)\n",
       "  mean time:        11.092 ms (14.86% GC)\n",
       "  maximum time:     15.937 ms (34.27% GC)\n",
       "  --------------\n",
       "  samples:          450\n",
       "  evals/sample:     1"
      ]
     },
     "execution_count": 8,
     "metadata": {},
     "output_type": "execute_result"
    }
   ],
   "source": [
    "# benchmark the `logpdf` function in Distribution.jl\n",
    "bm1 = @benchmark logpdf($mvn, $y)"
   ]
  },
  {
   "cell_type": "code",
   "execution_count": 9,
   "metadata": {
    "scrolled": true
   },
   "outputs": [
    {
     "data": {
      "text/plain": [
       "BenchmarkTools.Trial: \n",
       "  memory estimate:  0 bytes\n",
       "  allocs estimate:  0\n",
       "  --------------\n",
       "  minimum time:     643.272 ns (0.00% GC)\n",
       "  median time:      668.036 ns (0.00% GC)\n",
       "  mean time:        732.591 ns (0.00% GC)\n",
       "  maximum time:     2.531 μs (0.00% GC)\n",
       "  --------------\n",
       "  samples:          10000\n",
       "  evals/sample:     169"
      ]
     },
     "execution_count": 9,
     "metadata": {},
     "output_type": "execute_result"
    }
   ],
   "source": [
    "# benchmark your implementation\n",
    "L = Matrix(cholesky(Σ).L)\n",
    "bm2 = @benchmark logl!($obs, $β, $L, $σ²)"
   ]
  },
  {
   "cell_type": "markdown",
   "metadata": {},
   "source": [
    "The points you will get is\n",
    "$$\n",
    "\\frac{x}{10000} \\times 30,\n",
    "$$\n",
    "where $x$ is the speedup of your program against the standard method."
   ]
  },
  {
   "cell_type": "code",
   "execution_count": 10,
   "metadata": {},
   "outputs": [
    {
     "data": {
      "text/plain": [
       "30.0"
      ]
     },
     "execution_count": 10,
     "metadata": {},
     "output_type": "execute_result"
    }
   ],
   "source": [
    "# this is the points you'll get\n",
    "clamp(median(bm1).time / median(bm2).time / 10_000 * 30, 0, 30)"
   ]
  },
  {
   "cell_type": "markdown",
   "metadata": {},
   "source": [
    "**Hint**: Apparently I am using 10000 as denominator because I expect your code to be at least $10000 \\times$ faster than the standard method."
   ]
  },
  {
   "cell_type": "markdown",
   "metadata": {},
   "source": [
    "## Q5 Memory (30 pts)\n",
    "\n",
    "You want to avoid memory allocation in the \"hot\" function `logl!`. You will lose 1 point for each `1 KiB = 1024 bytes` memory allocation. In other words, the points you get for this question is"
   ]
  },
  {
   "cell_type": "code",
   "execution_count": 11,
   "metadata": {},
   "outputs": [
    {
     "data": {
      "text/plain": [
       "30.0"
      ]
     },
     "execution_count": 11,
     "metadata": {},
     "output_type": "execute_result"
    }
   ],
   "source": [
    "clamp(30 - median(bm2).memory / 1024, 0, 30)"
   ]
  },
  {
   "cell_type": "markdown",
   "metadata": {},
   "source": [
    "**Hint**: I am able to reduce the memory allocation to 0 bytes."
   ]
  },
  {
   "cell_type": "markdown",
   "metadata": {},
   "source": [
    "## Q6 Misc (15 pts)\n",
    "\n",
    "Coding style, Git workflow, etc. For reproducibity, make sure we (TA and myself) can run your Jupyter Notebook. That is how we grade Q4 and Q5. If we cannot run it, you will get zero points."
   ]
  }
 ],
 "metadata": {
  "@webio": {
   "lastCommId": null,
   "lastKernelId": null
  },
  "kernelspec": {
   "display_name": "Julia 1.6.0",
   "language": "julia",
   "name": "julia-1.6"
  },
  "language_info": {
   "file_extension": ".jl",
   "mimetype": "application/julia",
   "name": "julia",
   "version": "1.6.0"
  },
  "toc": {
   "colors": {
    "hover_highlight": "#DAA520",
    "running_highlight": "#FF0000",
    "selected_highlight": "#FFD700"
   },
   "moveMenuLeft": true,
   "nav_menu": {
    "height": "87px",
    "width": "252px"
   },
   "navigate_menu": true,
   "number_sections": true,
   "sideBar": true,
   "skip_h1_title": true,
   "threshold": 4,
   "toc_cell": false,
   "toc_section_display": "block",
   "toc_window_display": false,
   "widenNotebook": false
  }
 },
 "nbformat": 4,
 "nbformat_minor": 4
}
