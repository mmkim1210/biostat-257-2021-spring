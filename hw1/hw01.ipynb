{
 "cells": [
  {
   "cell_type": "markdown",
   "metadata": {},
   "source": [
    "# Biostat 257 Homework 1\n",
    "\n",
    "#### Due Apr 16 @ 11:59PM"
   ]
  },
  {
   "cell_type": "markdown",
   "metadata": {},
   "source": [
    "## Q1\n",
    "\n",
    "**No handwritten homework reports are accepted for this course.**  We work with Git/GitHub.  Efficient and abundant use of Git, e.g., **frequent and well-documented** commits, is an important criterion for grading your homework.\n",
    "\n",
    "1. If you don't have a GitHub account, apply for the [Student Developer Pack](https://education.github.com/pack) at GitHub using your UCLA email.\n",
    "\n",
    "2. Create a **private** repository `biostat-257-2021-spring` and add `Hua-Zhou` and `Chris-German` (TA) as your collaborators.\n",
    "\n",
    "3. Top directories of the repository should be `hw1`, `hw2`, ... You may create other branches for developing your homework solutions; but the `main` branch will be your presentation area. Put your homework submission files (Jupyter notebook `.ipynb`, html converted from notebook, all code and data set to reproduce results) in the `main` branch. \n",
    "\n",
    "4. After each homework due date, teaching assistant and instructor will check out your `main` branch for grading. Tag each of your homework submissions with tag names `hw1`, `hw2`, ...  Tagging time will be used as your submission time. That means if you tag your hw1 submission after deadline, penalty points will be deducted for late submission.  \n",
    "\n",
    "5. Read the [style guide](https://github.com/johnmyleswhite/Style.jl) for Julia programming. Following rules in the style guide will be strictly enforced when grading: (4) four space indenting rule, (6) 80 character rule, (7) space after comma rule, (8) no space before comma rule, (9) space around operator rule."
   ]
  },
  {
   "cell_type": "markdown",
   "metadata": {},
   "source": [
    "## Q2\n",
    "\n",
    "Let's check whether floating-point numbers obey certain algebraic rules. For 2-5, one counter-example suffices.\n",
    "\n",
    "1. Associative rule for addition says `(x + y) + z == x + (y + z)`. Check association rule using `x = 0.1`, `y = 0.1` and `z = 1.0` in Julia. Explain what you find."
   ]
  },
  {
   "cell_type": "code",
   "execution_count": 1,
   "metadata": {},
   "outputs": [
    {
     "name": "stdout",
     "output_type": "stream",
     "text": [
      "(x + y) + z == x + (y + z) = false\n",
      "bitstring((x + y) + z) = \"0011111111110011001100110011001100110011001100110011001100110011\"\n",
      "bitstring(x + (y + z)) = \"0011111111110011001100110011001100110011001100110011001100110100\"\n"
     ]
    }
   ],
   "source": [
    "x = 0.1\n",
    "y = 0.1\n",
    "z = 1.0\n",
    "\n",
    "@show (x + y) + z == x + (y + z)\n",
    "@show bitstring((x + y) + z)\n",
    "@show bitstring(x + (y + z));"
   ]
  },
  {
   "cell_type": "markdown",
   "metadata": {},
   "source": [
    "The association rule does not work using `Float64` due to the lack of an infinite precision. To conserve precision, we could instead utilize `BigFloat` or compute arithmetics in `Rational`. "
   ]
  },
  {
   "cell_type": "code",
   "execution_count": 2,
   "metadata": {},
   "outputs": [
    {
     "name": "stdout",
     "output_type": "stream",
     "text": [
      "(big\"0.1\" + big\"0.1\") + big\"1.0\" == big\"0.1\" + (big\"0.1\" + big\"1.0\") = true\n",
      "(1 // 10 + 1 // 10) + 1 == 1 // 10 + (1 // 10 + 1) = true\n"
     ]
    }
   ],
   "source": [
    "@show (big\"0.1\" + big\"0.1\") + big\"1.0\" == big\"0.1\" + (big\"0.1\" + big\"1.0\")\n",
    "@show (1//10 + 1//10) + 1 == 1//10 + (1//10 + 1);"
   ]
  },
  {
   "cell_type": "markdown",
   "metadata": {},
   "source": [
    "2. Do floating-point numbers obey the associative rule for multiplication: `(x * y) * z == x * (y * z)`?"
   ]
  },
  {
   "cell_type": "code",
   "execution_count": 3,
   "metadata": {},
   "outputs": [
    {
     "name": "stdout",
     "output_type": "stream",
     "text": [
      "(x * y) * z == x * (y * z) = false\n",
      "bitstring((x * y) * z) = \"0011111111010011001100110011001100110011001100110011001100110100\"\n",
      "bitstring(x * (y * z)) = \"0011111111010011001100110011001100110011001100110011001100110011\"\n"
     ]
    }
   ],
   "source": [
    "x = 0.003\n",
    "y = 0.1\n",
    "z = 1000.0\n",
    "@show (x * y) * z == x * (y * z)\n",
    "@show bitstring((x * y) * z)\n",
    "@show bitstring(x * (y * z));"
   ]
  },
  {
   "cell_type": "markdown",
   "metadata": {},
   "source": [
    "3. Do floating-point numbers obey the distributive rule: `a * (x + y) == a * x + a * y`?  "
   ]
  },
  {
   "cell_type": "code",
   "execution_count": 4,
   "metadata": {},
   "outputs": [
    {
     "name": "stdout",
     "output_type": "stream",
     "text": [
      "a * (x + y) == a * x + a * y = false\n",
      "bitstring(a * (x + y)) = \"0100000001011001000000000000010011101010010010101000110000010110\"\n",
      "bitstring(a * x + a * y) = \"0100000001011001000000000000010011101010010010101000110000010101\"\n"
     ]
    }
   ],
   "source": [
    "a = 0.1\n",
    "x = 0.003\n",
    "y = 1000.0\n",
    "@show a * (x + y) == a * x + a * y\n",
    "@show bitstring(a * (x + y))\n",
    "@show bitstring(a * x + a * y);"
   ]
  },
  {
   "cell_type": "markdown",
   "metadata": {},
   "source": [
    "4. Is `0 * x == 0` true for all floating-point number `x`? "
   ]
  },
  {
   "cell_type": "code",
   "execution_count": 5,
   "metadata": {},
   "outputs": [
    {
     "data": {
      "text/plain": [
       "false"
      ]
     },
     "execution_count": 5,
     "metadata": {},
     "output_type": "execute_result"
    }
   ],
   "source": [
    "0 * Inf == 0"
   ]
  },
  {
   "cell_type": "markdown",
   "metadata": {},
   "source": [
    "5. Is `x / a == x * (1 / a)` always true?"
   ]
  },
  {
   "cell_type": "code",
   "execution_count": 6,
   "metadata": {},
   "outputs": [
    {
     "name": "stdout",
     "output_type": "stream",
     "text": [
      "x / a == x * (1 / a) = false\n",
      "bitstring(x / a) = \"0011111111010011001100110011001100110011001100110011001100110011\"\n",
      "bitstring(x * (1 / a)) = \"0011111111010011001100110011001100110011001100110011001100110100\"\n"
     ]
    }
   ],
   "source": [
    "x = 3.0\n",
    "a = 10.0\n",
    "\n",
    "@show x / a == x * (1 / a)\n",
    "@show bitstring(x / a)\n",
    "@show bitstring(x * (1 / a));"
   ]
  },
  {
   "cell_type": "markdown",
   "metadata": {},
   "source": [
    "## Q3\n",
    "\n",
    "Consider Julia function\n",
    "```julia\n",
    "function g(k)\n",
    "    for i in 1:10\n",
    "        k = 5k - 1\n",
    "    end\n",
    "    k\n",
    "end\n",
    "```\n",
    "1. Use `@code_llvm` to find the LLVM bitcode of compiled `g` with `Int64` input.   "
   ]
  },
  {
   "cell_type": "code",
   "execution_count": 7,
   "metadata": {},
   "outputs": [
    {
     "name": "stdout",
     "output_type": "stream",
     "text": [
      "\u001b[90m;  @ In[7]:1 within `g'\u001b[39m\n",
      "\u001b[95mdefine\u001b[39m \u001b[36mi64\u001b[39m \u001b[93m@julia_g_1229\u001b[39m\u001b[33m(\u001b[39m\u001b[36mi64\u001b[39m \u001b[95msignext\u001b[39m \u001b[0m%0\u001b[33m)\u001b[39m \u001b[33m{\u001b[39m\n",
      "\u001b[91mtop:\u001b[39m\n",
      "\u001b[90m;  @ In[7]:3 within `g'\u001b[39m\n",
      "\u001b[90m; ┌ @ int.jl:88 within `*'\u001b[39m\n",
      "   \u001b[0m%1 \u001b[0m= \u001b[96m\u001b[1mmul\u001b[22m\u001b[39m \u001b[36mi64\u001b[39m \u001b[0m%0\u001b[0m, \u001b[33m9765625\u001b[39m\n",
      "\u001b[90m; └\u001b[39m\n",
      "\u001b[90m; ┌ @ int.jl:86 within `-'\u001b[39m\n",
      "   \u001b[0m%2 \u001b[0m= \u001b[96m\u001b[1madd\u001b[22m\u001b[39m \u001b[36mi64\u001b[39m \u001b[0m%1\u001b[0m, \u001b[33m-2441406\u001b[39m\n",
      "\u001b[90m; └\u001b[39m\n",
      "\u001b[90m;  @ In[7]:5 within `g'\u001b[39m\n",
      "  \u001b[96m\u001b[1mret\u001b[22m\u001b[39m \u001b[36mi64\u001b[39m \u001b[0m%2\n",
      "\u001b[33m}\u001b[39m\n"
     ]
    }
   ],
   "source": [
    "function g(k)\n",
    "    for i in 1:10\n",
    "        k = 5k - 1\n",
    "    end\n",
    "    k\n",
    "end\n",
    "\n",
    "@code_llvm g(5)"
   ]
  },
  {
   "cell_type": "markdown",
   "metadata": {},
   "source": [
    "2. Use `@code_llvm` to find the LLVM bitcode of compiled `g` with `Float64` input.  "
   ]
  },
  {
   "cell_type": "code",
   "execution_count": 8,
   "metadata": {
    "scrolled": false
   },
   "outputs": [
    {
     "name": "stdout",
     "output_type": "stream",
     "text": [
      "\u001b[90m;  @ In[7]:1 within `g'\u001b[39m\n",
      "\u001b[95mdefine\u001b[39m \u001b[36mdouble\u001b[39m \u001b[93m@julia_g_1257\u001b[39m\u001b[33m(\u001b[39m\u001b[36mdouble\u001b[39m \u001b[0m%0\u001b[33m)\u001b[39m \u001b[33m{\u001b[39m\n",
      "\u001b[91mtop:\u001b[39m\n",
      "\u001b[90m;  @ In[7]:3 within `g'\u001b[39m\n",
      "\u001b[90m; ┌ @ promotion.jl:322 within `*' @ float.jl:332\u001b[39m\n",
      "   \u001b[0m%1 \u001b[0m= \u001b[96m\u001b[1mfmul\u001b[22m\u001b[39m \u001b[36mdouble\u001b[39m \u001b[0m%0\u001b[0m, \u001b[33m5.000000e+00\u001b[39m\n",
      "\u001b[90m; └\u001b[39m\n",
      "\u001b[90m; ┌ @ promotion.jl:323 within `-' @ float.jl:329\u001b[39m\n",
      "   \u001b[0m%2 \u001b[0m= \u001b[96m\u001b[1mfadd\u001b[22m\u001b[39m \u001b[36mdouble\u001b[39m \u001b[0m%1\u001b[0m, \u001b[33m-1.000000e+00\u001b[39m\n",
      "\u001b[90m; └\u001b[39m\n",
      "\u001b[90m; ┌ @ promotion.jl:322 within `*' @ float.jl:332\u001b[39m\n",
      "   \u001b[0m%3 \u001b[0m= \u001b[96m\u001b[1mfmul\u001b[22m\u001b[39m \u001b[36mdouble\u001b[39m \u001b[0m%2\u001b[0m, \u001b[33m5.000000e+00\u001b[39m\n",
      "\u001b[90m; └\u001b[39m\n",
      "\u001b[90m; ┌ @ promotion.jl:323 within `-' @ float.jl:329\u001b[39m\n",
      "   \u001b[0m%4 \u001b[0m= \u001b[96m\u001b[1mfadd\u001b[22m\u001b[39m \u001b[36mdouble\u001b[39m \u001b[0m%3\u001b[0m, \u001b[33m-1.000000e+00\u001b[39m\n",
      "\u001b[90m; └\u001b[39m\n",
      "\u001b[90m; ┌ @ promotion.jl:322 within `*' @ float.jl:332\u001b[39m\n",
      "   \u001b[0m%5 \u001b[0m= \u001b[96m\u001b[1mfmul\u001b[22m\u001b[39m \u001b[36mdouble\u001b[39m \u001b[0m%4\u001b[0m, \u001b[33m5.000000e+00\u001b[39m\n",
      "\u001b[90m; └\u001b[39m\n",
      "\u001b[90m; ┌ @ promotion.jl:323 within `-' @ float.jl:329\u001b[39m\n",
      "   \u001b[0m%6 \u001b[0m= \u001b[96m\u001b[1mfadd\u001b[22m\u001b[39m \u001b[36mdouble\u001b[39m \u001b[0m%5\u001b[0m, \u001b[33m-1.000000e+00\u001b[39m\n",
      "\u001b[90m; └\u001b[39m\n",
      "\u001b[90m; ┌ @ promotion.jl:322 within `*' @ float.jl:332\u001b[39m\n",
      "   \u001b[0m%7 \u001b[0m= \u001b[96m\u001b[1mfmul\u001b[22m\u001b[39m \u001b[36mdouble\u001b[39m \u001b[0m%6\u001b[0m, \u001b[33m5.000000e+00\u001b[39m\n",
      "\u001b[90m; └\u001b[39m\n",
      "\u001b[90m; ┌ @ promotion.jl:323 within `-' @ float.jl:329\u001b[39m\n",
      "   \u001b[0m%8 \u001b[0m= \u001b[96m\u001b[1mfadd\u001b[22m\u001b[39m \u001b[36mdouble\u001b[39m \u001b[0m%7\u001b[0m, \u001b[33m-1.000000e+00\u001b[39m\n",
      "\u001b[90m; └\u001b[39m\n",
      "\u001b[90m; ┌ @ promotion.jl:322 within `*' @ float.jl:332\u001b[39m\n",
      "   \u001b[0m%9 \u001b[0m= \u001b[96m\u001b[1mfmul\u001b[22m\u001b[39m \u001b[36mdouble\u001b[39m \u001b[0m%8\u001b[0m, \u001b[33m5.000000e+00\u001b[39m\n",
      "\u001b[90m; └\u001b[39m\n",
      "\u001b[90m; ┌ @ promotion.jl:323 within `-' @ float.jl:329\u001b[39m\n",
      "   \u001b[0m%10 \u001b[0m= \u001b[96m\u001b[1mfadd\u001b[22m\u001b[39m \u001b[36mdouble\u001b[39m \u001b[0m%9\u001b[0m, \u001b[33m-1.000000e+00\u001b[39m\n",
      "\u001b[90m; └\u001b[39m\n",
      "\u001b[90m; ┌ @ promotion.jl:322 within `*' @ float.jl:332\u001b[39m\n",
      "   \u001b[0m%11 \u001b[0m= \u001b[96m\u001b[1mfmul\u001b[22m\u001b[39m \u001b[36mdouble\u001b[39m \u001b[0m%10\u001b[0m, \u001b[33m5.000000e+00\u001b[39m\n",
      "\u001b[90m; └\u001b[39m\n",
      "\u001b[90m; ┌ @ promotion.jl:323 within `-' @ float.jl:329\u001b[39m\n",
      "   \u001b[0m%12 \u001b[0m= \u001b[96m\u001b[1mfadd\u001b[22m\u001b[39m \u001b[36mdouble\u001b[39m \u001b[0m%11\u001b[0m, \u001b[33m-1.000000e+00\u001b[39m\n",
      "\u001b[90m; └\u001b[39m\n",
      "\u001b[90m; ┌ @ promotion.jl:322 within `*' @ float.jl:332\u001b[39m\n",
      "   \u001b[0m%13 \u001b[0m= \u001b[96m\u001b[1mfmul\u001b[22m\u001b[39m \u001b[36mdouble\u001b[39m \u001b[0m%12\u001b[0m, \u001b[33m5.000000e+00\u001b[39m\n",
      "\u001b[90m; └\u001b[39m\n",
      "\u001b[90m; ┌ @ promotion.jl:323 within `-' @ float.jl:329\u001b[39m\n",
      "   \u001b[0m%14 \u001b[0m= \u001b[96m\u001b[1mfadd\u001b[22m\u001b[39m \u001b[36mdouble\u001b[39m \u001b[0m%13\u001b[0m, \u001b[33m-1.000000e+00\u001b[39m\n",
      "\u001b[90m; └\u001b[39m\n",
      "\u001b[90m; ┌ @ promotion.jl:322 within `*' @ float.jl:332\u001b[39m\n",
      "   \u001b[0m%15 \u001b[0m= \u001b[96m\u001b[1mfmul\u001b[22m\u001b[39m \u001b[36mdouble\u001b[39m \u001b[0m%14\u001b[0m, \u001b[33m5.000000e+00\u001b[39m\n",
      "\u001b[90m; └\u001b[39m\n",
      "\u001b[90m; ┌ @ promotion.jl:323 within `-' @ float.jl:329\u001b[39m\n",
      "   \u001b[0m%16 \u001b[0m= \u001b[96m\u001b[1mfadd\u001b[22m\u001b[39m \u001b[36mdouble\u001b[39m \u001b[0m%15\u001b[0m, \u001b[33m-1.000000e+00\u001b[39m\n",
      "\u001b[90m; └\u001b[39m\n",
      "\u001b[90m; ┌ @ promotion.jl:322 within `*' @ float.jl:332\u001b[39m\n",
      "   \u001b[0m%17 \u001b[0m= \u001b[96m\u001b[1mfmul\u001b[22m\u001b[39m \u001b[36mdouble\u001b[39m \u001b[0m%16\u001b[0m, \u001b[33m5.000000e+00\u001b[39m\n",
      "\u001b[90m; └\u001b[39m\n",
      "\u001b[90m; ┌ @ promotion.jl:323 within `-' @ float.jl:329\u001b[39m\n",
      "   \u001b[0m%18 \u001b[0m= \u001b[96m\u001b[1mfadd\u001b[22m\u001b[39m \u001b[36mdouble\u001b[39m \u001b[0m%17\u001b[0m, \u001b[33m-1.000000e+00\u001b[39m\n",
      "\u001b[90m; └\u001b[39m\n",
      "\u001b[90m; ┌ @ promotion.jl:322 within `*' @ float.jl:332\u001b[39m\n",
      "   \u001b[0m%19 \u001b[0m= \u001b[96m\u001b[1mfmul\u001b[22m\u001b[39m \u001b[36mdouble\u001b[39m \u001b[0m%18\u001b[0m, \u001b[33m5.000000e+00\u001b[39m\n",
      "\u001b[90m; └\u001b[39m\n",
      "\u001b[90m; ┌ @ promotion.jl:323 within `-' @ float.jl:329\u001b[39m\n",
      "   \u001b[0m%20 \u001b[0m= \u001b[96m\u001b[1mfadd\u001b[22m\u001b[39m \u001b[36mdouble\u001b[39m \u001b[0m%19\u001b[0m, \u001b[33m-1.000000e+00\u001b[39m\n",
      "\u001b[90m; └\u001b[39m\n",
      "\u001b[90m;  @ In[7]:5 within `g'\u001b[39m\n",
      "  \u001b[96m\u001b[1mret\u001b[22m\u001b[39m \u001b[36mdouble\u001b[39m \u001b[0m%20\n",
      "\u001b[33m}\u001b[39m\n"
     ]
    }
   ],
   "source": [
    "@code_llvm g(5.0)"
   ]
  },
  {
   "cell_type": "markdown",
   "metadata": {},
   "source": [
    "3. Compare the bitcode from questions 1 and 2. What do you find?  "
   ]
  },
  {
   "cell_type": "markdown",
   "metadata": {},
   "source": [
    "`g(5.0)` needs more steps than `g(5)` due to floating-point arithmetics, where the usual associative and distributive laws are not obeyed."
   ]
  },
  {
   "cell_type": "markdown",
   "metadata": {},
   "source": [
    "4. Read Julia documentation on `@fastmath` and repeat the questions 1-3 on the function  \n",
    "\n",
    "```julia\n",
    "function g_fastmath(k)  \n",
    "    @fastmath for i in 1:10  \n",
    "        k = 5k - 1\n",
    "    end\n",
    "    k\n",
    "end\n",
    "```\n",
    "    Explain what does macro `@fastmath` do?"
   ]
  },
  {
   "cell_type": "code",
   "execution_count": 9,
   "metadata": {
    "scrolled": false
   },
   "outputs": [
    {
     "name": "stdout",
     "output_type": "stream",
     "text": [
      "\u001b[90m;  @ In[9]:1 within `g_fastmath'\u001b[39m\n",
      "\u001b[95mdefine\u001b[39m \u001b[36mi64\u001b[39m \u001b[93m@julia_g_fastmath_1260\u001b[39m\u001b[33m(\u001b[39m\u001b[36mi64\u001b[39m \u001b[95msignext\u001b[39m \u001b[0m%0\u001b[33m)\u001b[39m \u001b[33m{\u001b[39m\n",
      "\u001b[91mtop:\u001b[39m\n",
      "\u001b[90m;  @ In[9]:3 within `g_fastmath'\u001b[39m\n",
      "\u001b[90m; ┌ @ fastmath.jl:270 within `mul_fast'\u001b[39m\n",
      "\u001b[90m; │┌ @ int.jl:88 within `*'\u001b[39m\n",
      "    \u001b[0m%1 \u001b[0m= \u001b[96m\u001b[1mmul\u001b[22m\u001b[39m \u001b[36mi64\u001b[39m \u001b[0m%0\u001b[0m, \u001b[33m9765625\u001b[39m\n",
      "\u001b[90m; └└\u001b[39m\n",
      "\u001b[90m; ┌ @ fastmath.jl:270 within `sub_fast'\u001b[39m\n",
      "\u001b[90m; │┌ @ int.jl:86 within `-'\u001b[39m\n",
      "    \u001b[0m%2 \u001b[0m= \u001b[96m\u001b[1madd\u001b[22m\u001b[39m \u001b[36mi64\u001b[39m \u001b[0m%1\u001b[0m, \u001b[33m-2441406\u001b[39m\n",
      "\u001b[90m; └└\u001b[39m\n",
      "\u001b[90m;  @ In[9]:5 within `g_fastmath'\u001b[39m\n",
      "  \u001b[96m\u001b[1mret\u001b[22m\u001b[39m \u001b[36mi64\u001b[39m \u001b[0m%2\n",
      "\u001b[33m}\u001b[39m\n"
     ]
    }
   ],
   "source": [
    "function g_fastmath(k)  \n",
    "    @fastmath for i in 1:10  \n",
    "        k = 5k - 1\n",
    "    end\n",
    "    k\n",
    "end\n",
    "\n",
    "@code_llvm g_fastmath(5)"
   ]
  },
  {
   "cell_type": "code",
   "execution_count": 10,
   "metadata": {
    "scrolled": true
   },
   "outputs": [
    {
     "name": "stdout",
     "output_type": "stream",
     "text": [
      "\u001b[90m;  @ In[9]:1 within `g_fastmath'\u001b[39m\n",
      "\u001b[95mdefine\u001b[39m \u001b[36mdouble\u001b[39m \u001b[93m@julia_g_fastmath_1262\u001b[39m\u001b[33m(\u001b[39m\u001b[36mdouble\u001b[39m \u001b[0m%0\u001b[33m)\u001b[39m \u001b[33m{\u001b[39m\n",
      "\u001b[91mtop:\u001b[39m\n",
      "\u001b[90m;  @ In[9]:3 within `g_fastmath'\u001b[39m\n",
      "\u001b[90m; ┌ @ fastmath.jl:267 within `mul_fast' @ fastmath.jl:167\u001b[39m\n",
      "   \u001b[0m%1 \u001b[0m= \u001b[96m\u001b[1mfmul\u001b[22m\u001b[39m \u001b[95mfast\u001b[39m \u001b[36mdouble\u001b[39m \u001b[0m%0\u001b[0m, \u001b[33m0x4162A05F20000000\u001b[39m\n",
      "\u001b[90m; └\u001b[39m\n",
      "\u001b[90m; ┌ @ fastmath.jl:267 within `sub_fast' @ fastmath.jl:166\u001b[39m\n",
      "   \u001b[0m%2 \u001b[0m= \u001b[96m\u001b[1mfadd\u001b[22m\u001b[39m \u001b[95mfast\u001b[39m \u001b[36mdouble\u001b[39m \u001b[0m%1\u001b[0m, \u001b[33m0xC142A05F00000000\u001b[39m\n",
      "\u001b[90m; └\u001b[39m\n",
      "\u001b[90m;  @ In[9]:5 within `g_fastmath'\u001b[39m\n",
      "  \u001b[96m\u001b[1mret\u001b[22m\u001b[39m \u001b[36mdouble\u001b[39m \u001b[0m%2\n",
      "\u001b[33m}\u001b[39m\n"
     ]
    }
   ],
   "source": [
    "@code_llvm g_fastmath(5.0)"
   ]
  },
  {
   "cell_type": "markdown",
   "metadata": {},
   "source": [
    "`@fastmath` allows [execution of a transformed version of the expression](https://docs.julialang.org/en/v1.0.0/base/math/#Base.FastMath.@fastmath), which calls functions that may violate strict IEEE semantics, while allowing the fastest possible operation. In this case, the floating-point number arithmetic is computed in a similar manner to the integer arithmetic, ignoring the associative and distributive laws."
   ]
  },
  {
   "cell_type": "markdown",
   "metadata": {},
   "source": [
    "## Q4\n",
    "\n",
    "Create the vector `x = (0.988, 0.989, 0.990, ..., 1.010, 1.011, 1.012)`.   \n",
    "\n",
    "1. Plot the polynomial `y = x^7 - 7x^6 + 21x^5 - 35x^4 + 35x^3 - 21x^2 + 7x - 1` at points `x`."
   ]
  },
  {
   "cell_type": "code",
   "execution_count": 11,
   "metadata": {},
   "outputs": [
    {
     "data": {
      "image/svg+xml": [
       "<?xml version=\"1.0\" encoding=\"utf-8\"?>\n",
       "<svg xmlns=\"http://www.w3.org/2000/svg\" xmlns:xlink=\"http://www.w3.org/1999/xlink\" width=\"600\" height=\"400\" viewBox=\"0 0 2400 1600\">\n",
       "<defs>\n",
       "  <clipPath id=\"clip900\">\n",
       "    <rect x=\"0\" y=\"0\" width=\"2400\" height=\"1600\"/>\n",
       "  </clipPath>\n",
       "</defs>\n",
       "<path clip-path=\"url(#clip900)\" d=\"\n",
       "M0 1600 L2400 1600 L2400 0 L0 0  Z\n",
       "  \" fill=\"#ffffff\" fill-rule=\"evenodd\" fill-opacity=\"1\"/>\n",
       "<defs>\n",
       "  <clipPath id=\"clip901\">\n",
       "    <rect x=\"480\" y=\"0\" width=\"1681\" height=\"1600\"/>\n",
       "  </clipPath>\n",
       "</defs>\n",
       "<path clip-path=\"url(#clip900)\" d=\"\n",
       "M369.025 1486.45 L2352.76 1486.45 L2352.76 47.2441 L369.025 47.2441  Z\n",
       "  \" fill=\"#ffffff\" fill-rule=\"evenodd\" fill-opacity=\"1\"/>\n",
       "<defs>\n",
       "  <clipPath id=\"clip902\">\n",
       "    <rect x=\"369\" y=\"47\" width=\"1985\" height=\"1440\"/>\n",
       "  </clipPath>\n",
       "</defs>\n",
       "<polyline clip-path=\"url(#clip902)\" style=\"stroke:#000000; stroke-width:2; stroke-opacity:0.1; fill:none\" points=\"\n",
       "  581.122,1486.45 581.122,47.2441 \n",
       "  \"/>\n",
       "<polyline clip-path=\"url(#clip902)\" style=\"stroke:#000000; stroke-width:2; stroke-opacity:0.1; fill:none\" points=\"\n",
       "  971.006,1486.45 971.006,47.2441 \n",
       "  \"/>\n",
       "<polyline clip-path=\"url(#clip902)\" style=\"stroke:#000000; stroke-width:2; stroke-opacity:0.1; fill:none\" points=\"\n",
       "  1360.89,1486.45 1360.89,47.2441 \n",
       "  \"/>\n",
       "<polyline clip-path=\"url(#clip902)\" style=\"stroke:#000000; stroke-width:2; stroke-opacity:0.1; fill:none\" points=\"\n",
       "  1750.77,1486.45 1750.77,47.2441 \n",
       "  \"/>\n",
       "<polyline clip-path=\"url(#clip902)\" style=\"stroke:#000000; stroke-width:2; stroke-opacity:0.1; fill:none\" points=\"\n",
       "  2140.66,1486.45 2140.66,47.2441 \n",
       "  \"/>\n",
       "<polyline clip-path=\"url(#clip900)\" style=\"stroke:#000000; stroke-width:4; stroke-opacity:1; fill:none\" points=\"\n",
       "  369.025,1486.45 2352.76,1486.45 \n",
       "  \"/>\n",
       "<polyline clip-path=\"url(#clip900)\" style=\"stroke:#000000; stroke-width:4; stroke-opacity:1; fill:none\" points=\"\n",
       "  581.122,1486.45 581.122,1469.18 \n",
       "  \"/>\n",
       "<polyline clip-path=\"url(#clip900)\" style=\"stroke:#000000; stroke-width:4; stroke-opacity:1; fill:none\" points=\"\n",
       "  971.006,1486.45 971.006,1469.18 \n",
       "  \"/>\n",
       "<polyline clip-path=\"url(#clip900)\" style=\"stroke:#000000; stroke-width:4; stroke-opacity:1; fill:none\" points=\"\n",
       "  1360.89,1486.45 1360.89,1469.18 \n",
       "  \"/>\n",
       "<polyline clip-path=\"url(#clip900)\" style=\"stroke:#000000; stroke-width:4; stroke-opacity:1; fill:none\" points=\"\n",
       "  1750.77,1486.45 1750.77,1469.18 \n",
       "  \"/>\n",
       "<polyline clip-path=\"url(#clip900)\" style=\"stroke:#000000; stroke-width:4; stroke-opacity:1; fill:none\" points=\"\n",
       "  2140.66,1486.45 2140.66,1469.18 \n",
       "  \"/>\n",
       "<path clip-path=\"url(#clip900)\" d=\"M 0 0 M528.344 1515.64 Q524.733 1515.64 522.905 1519.2 Q521.099 1522.75 521.099 1529.87 Q521.099 1536.98 522.905 1540.55 Q524.733 1544.09 528.344 1544.09 Q531.979 1544.09 533.784 1540.55 Q535.613 1536.98 535.613 1529.87 Q535.613 1522.75 533.784 1519.2 Q531.979 1515.64 528.344 1515.64 M528.344 1511.93 Q534.154 1511.93 537.21 1516.54 Q540.289 1521.12 540.289 1529.87 Q540.289 1538.6 537.21 1543.21 Q534.154 1547.79 528.344 1547.79 Q522.534 1547.79 519.455 1543.21 Q516.4 1538.6 516.4 1529.87 Q516.4 1521.12 519.455 1516.54 Q522.534 1511.93 528.344 1511.93 Z\" fill=\"#000000\" fill-rule=\"evenodd\" fill-opacity=\"1\" /><path clip-path=\"url(#clip900)\" d=\"M 0 0 M548.506 1541.24 L553.39 1541.24 L553.39 1547.12 L548.506 1547.12 L548.506 1541.24 Z\" fill=\"#000000\" fill-rule=\"evenodd\" fill-opacity=\"1\" /><path clip-path=\"url(#clip900)\" d=\"M 0 0 M563.714 1546.4 L563.714 1542.14 Q565.474 1542.98 567.279 1543.42 Q569.085 1543.86 570.821 1543.86 Q575.451 1543.86 577.881 1540.75 Q580.335 1537.63 580.682 1531.29 Q579.339 1533.28 577.279 1534.34 Q575.219 1535.41 572.719 1535.41 Q567.534 1535.41 564.502 1532.28 Q561.492 1529.13 561.492 1523.69 Q561.492 1518.37 564.64 1515.15 Q567.789 1511.93 573.02 1511.93 Q579.015 1511.93 582.163 1516.54 Q585.335 1521.12 585.335 1529.87 Q585.335 1538.05 581.446 1542.93 Q577.58 1547.79 571.029 1547.79 Q569.27 1547.79 567.464 1547.44 Q565.659 1547.1 563.714 1546.4 M573.02 1531.75 Q576.168 1531.75 577.997 1529.6 Q579.849 1527.44 579.849 1523.69 Q579.849 1519.97 577.997 1517.81 Q576.168 1515.64 573.02 1515.64 Q569.872 1515.64 568.02 1517.81 Q566.191 1519.97 566.191 1523.69 Q566.191 1527.44 568.02 1529.6 Q569.872 1531.75 573.02 1531.75 Z\" fill=\"#000000\" fill-rule=\"evenodd\" fill-opacity=\"1\" /><path clip-path=\"url(#clip900)\" d=\"M 0 0 M593.876 1546.4 L593.876 1542.14 Q595.636 1542.98 597.441 1543.42 Q599.247 1543.86 600.983 1543.86 Q605.612 1543.86 608.043 1540.75 Q610.497 1537.63 610.844 1531.29 Q609.501 1533.28 607.441 1534.34 Q605.381 1535.41 602.881 1535.41 Q597.696 1535.41 594.663 1532.28 Q591.654 1529.13 591.654 1523.69 Q591.654 1518.37 594.802 1515.15 Q597.95 1511.93 603.182 1511.93 Q609.177 1511.93 612.325 1516.54 Q615.497 1521.12 615.497 1529.87 Q615.497 1538.05 611.608 1542.93 Q607.742 1547.79 601.191 1547.79 Q599.432 1547.79 597.626 1547.44 Q595.821 1547.1 593.876 1546.4 M603.182 1531.75 Q606.33 1531.75 608.159 1529.6 Q610.011 1527.44 610.011 1523.69 Q610.011 1519.97 608.159 1517.81 Q606.33 1515.64 603.182 1515.64 Q600.034 1515.64 598.182 1517.81 Q596.353 1519.97 596.353 1523.69 Q596.353 1527.44 598.182 1529.6 Q600.034 1531.75 603.182 1531.75 Z\" fill=\"#000000\" fill-rule=\"evenodd\" fill-opacity=\"1\" /><path clip-path=\"url(#clip900)\" d=\"M 0 0 M633.899 1515.64 Q630.288 1515.64 628.46 1519.2 Q626.654 1522.75 626.654 1529.87 Q626.654 1536.98 628.46 1540.55 Q630.288 1544.09 633.899 1544.09 Q637.534 1544.09 639.339 1540.55 Q641.168 1536.98 641.168 1529.87 Q641.168 1522.75 639.339 1519.2 Q637.534 1515.64 633.899 1515.64 M633.899 1511.93 Q639.709 1511.93 642.765 1516.54 Q645.844 1521.12 645.844 1529.87 Q645.844 1538.6 642.765 1543.21 Q639.709 1547.79 633.899 1547.79 Q628.089 1547.79 625.01 1543.21 Q621.955 1538.6 621.955 1529.87 Q621.955 1521.12 625.01 1516.54 Q628.089 1511.93 633.899 1511.93 Z\" fill=\"#000000\" fill-rule=\"evenodd\" fill-opacity=\"1\" /><path clip-path=\"url(#clip900)\" d=\"M 0 0 M918.726 1515.64 Q915.115 1515.64 913.286 1519.2 Q911.481 1522.75 911.481 1529.87 Q911.481 1536.98 913.286 1540.55 Q915.115 1544.09 918.726 1544.09 Q922.36 1544.09 924.166 1540.55 Q925.995 1536.98 925.995 1529.87 Q925.995 1522.75 924.166 1519.2 Q922.36 1515.64 918.726 1515.64 M918.726 1511.93 Q924.536 1511.93 927.592 1516.54 Q930.671 1521.12 930.671 1529.87 Q930.671 1538.6 927.592 1543.21 Q924.536 1547.79 918.726 1547.79 Q912.916 1547.79 909.837 1543.21 Q906.782 1538.6 906.782 1529.87 Q906.782 1521.12 909.837 1516.54 Q912.916 1511.93 918.726 1511.93 Z\" fill=\"#000000\" fill-rule=\"evenodd\" fill-opacity=\"1\" /><path clip-path=\"url(#clip900)\" d=\"M 0 0 M938.888 1541.24 L943.772 1541.24 L943.772 1547.12 L938.888 1547.12 L938.888 1541.24 Z\" fill=\"#000000\" fill-rule=\"evenodd\" fill-opacity=\"1\" /><path clip-path=\"url(#clip900)\" d=\"M 0 0 M954.096 1546.4 L954.096 1542.14 Q955.856 1542.98 957.661 1543.42 Q959.467 1543.86 961.203 1543.86 Q965.832 1543.86 968.263 1540.75 Q970.717 1537.63 971.064 1531.29 Q969.721 1533.28 967.661 1534.34 Q965.601 1535.41 963.101 1535.41 Q957.916 1535.41 954.883 1532.28 Q951.874 1529.13 951.874 1523.69 Q951.874 1518.37 955.022 1515.15 Q958.17 1511.93 963.402 1511.93 Q969.397 1511.93 972.545 1516.54 Q975.717 1521.12 975.717 1529.87 Q975.717 1538.05 971.828 1542.93 Q967.962 1547.79 961.411 1547.79 Q959.652 1547.79 957.846 1547.44 Q956.041 1547.1 954.096 1546.4 M963.402 1531.75 Q966.55 1531.75 968.379 1529.6 Q970.231 1527.44 970.231 1523.69 Q970.231 1519.97 968.379 1517.81 Q966.55 1515.64 963.402 1515.64 Q960.254 1515.64 958.402 1517.81 Q956.573 1519.97 956.573 1523.69 Q956.573 1527.44 958.402 1529.6 Q960.254 1531.75 963.402 1531.75 Z\" fill=\"#000000\" fill-rule=\"evenodd\" fill-opacity=\"1\" /><path clip-path=\"url(#clip900)\" d=\"M 0 0 M984.258 1546.4 L984.258 1542.14 Q986.018 1542.98 987.823 1543.42 Q989.629 1543.86 991.365 1543.86 Q995.994 1543.86 998.425 1540.75 Q1000.88 1537.63 1001.23 1531.29 Q999.883 1533.28 997.823 1534.34 Q995.763 1535.41 993.263 1535.41 Q988.078 1535.41 985.045 1532.28 Q982.036 1529.13 982.036 1523.69 Q982.036 1518.37 985.184 1515.15 Q988.332 1511.93 993.564 1511.93 Q999.559 1511.93 1002.71 1516.54 Q1005.88 1521.12 1005.88 1529.87 Q1005.88 1538.05 1001.99 1542.93 Q998.124 1547.79 991.573 1547.79 Q989.814 1547.79 988.008 1547.44 Q986.203 1547.1 984.258 1546.4 M993.564 1531.75 Q996.712 1531.75 998.541 1529.6 Q1000.39 1527.44 1000.39 1523.69 Q1000.39 1519.97 998.541 1517.81 Q996.712 1515.64 993.564 1515.64 Q990.416 1515.64 988.564 1517.81 Q986.735 1519.97 986.735 1523.69 Q986.735 1527.44 988.564 1529.6 Q990.416 1531.75 993.564 1531.75 Z\" fill=\"#000000\" fill-rule=\"evenodd\" fill-opacity=\"1\" /><path clip-path=\"url(#clip900)\" d=\"M 0 0 M1014.33 1512.56 L1032.68 1512.56 L1032.68 1516.5 L1018.61 1516.5 L1018.61 1524.97 Q1019.63 1524.62 1020.65 1524.46 Q1021.67 1524.27 1022.68 1524.27 Q1028.47 1524.27 1031.85 1527.44 Q1035.23 1530.62 1035.23 1536.03 Q1035.23 1541.61 1031.76 1544.71 Q1028.29 1547.79 1021.97 1547.79 Q1019.79 1547.79 1017.52 1547.42 Q1015.28 1547.05 1012.87 1546.31 L1012.87 1541.61 Q1014.95 1542.74 1017.17 1543.3 Q1019.4 1543.86 1021.87 1543.86 Q1025.88 1543.86 1028.22 1541.75 Q1030.55 1539.64 1030.55 1536.03 Q1030.55 1532.42 1028.22 1530.31 Q1025.88 1528.21 1021.87 1528.21 Q1020 1528.21 1018.12 1528.62 Q1016.27 1529.04 1014.33 1529.92 L1014.33 1512.56 Z\" fill=\"#000000\" fill-rule=\"evenodd\" fill-opacity=\"1\" /><path clip-path=\"url(#clip900)\" d=\"M 0 0 M1297.88 1543.18 L1305.52 1543.18 L1305.52 1516.82 L1297.21 1518.49 L1297.21 1514.23 L1305.47 1512.56 L1310.15 1512.56 L1310.15 1543.18 L1317.79 1543.18 L1317.79 1547.12 L1297.88 1547.12 L1297.88 1543.18 Z\" fill=\"#000000\" fill-rule=\"evenodd\" fill-opacity=\"1\" /><path clip-path=\"url(#clip900)\" d=\"M 0 0 M1327.23 1541.24 L1332.12 1541.24 L1332.12 1547.12 L1327.23 1547.12 L1327.23 1541.24 Z\" fill=\"#000000\" fill-rule=\"evenodd\" fill-opacity=\"1\" /><path clip-path=\"url(#clip900)\" d=\"M 0 0 M1352.3 1515.64 Q1348.69 1515.64 1346.86 1519.2 Q1345.06 1522.75 1345.06 1529.87 Q1345.06 1536.98 1346.86 1540.55 Q1348.69 1544.09 1352.3 1544.09 Q1355.94 1544.09 1357.74 1540.55 Q1359.57 1536.98 1359.57 1529.87 Q1359.57 1522.75 1357.74 1519.2 Q1355.94 1515.64 1352.3 1515.64 M1352.3 1511.93 Q1358.11 1511.93 1361.17 1516.54 Q1364.25 1521.12 1364.25 1529.87 Q1364.25 1538.6 1361.17 1543.21 Q1358.11 1547.79 1352.3 1547.79 Q1346.49 1547.79 1343.41 1543.21 Q1340.36 1538.6 1340.36 1529.87 Q1340.36 1521.12 1343.41 1516.54 Q1346.49 1511.93 1352.3 1511.93 Z\" fill=\"#000000\" fill-rule=\"evenodd\" fill-opacity=\"1\" /><path clip-path=\"url(#clip900)\" d=\"M 0 0 M1382.46 1515.64 Q1378.85 1515.64 1377.02 1519.2 Q1375.22 1522.75 1375.22 1529.87 Q1375.22 1536.98 1377.02 1540.55 Q1378.85 1544.09 1382.46 1544.09 Q1386.1 1544.09 1387.9 1540.55 Q1389.73 1536.98 1389.73 1529.87 Q1389.73 1522.75 1387.9 1519.2 Q1386.1 1515.64 1382.46 1515.64 M1382.46 1511.93 Q1388.27 1511.93 1391.33 1516.54 Q1394.41 1521.12 1394.41 1529.87 Q1394.41 1538.6 1391.33 1543.21 Q1388.27 1547.79 1382.46 1547.79 Q1376.65 1547.79 1373.58 1543.21 Q1370.52 1538.6 1370.52 1529.87 Q1370.52 1521.12 1373.58 1516.54 Q1376.65 1511.93 1382.46 1511.93 Z\" fill=\"#000000\" fill-rule=\"evenodd\" fill-opacity=\"1\" /><path clip-path=\"url(#clip900)\" d=\"M 0 0 M1412.63 1515.64 Q1409.02 1515.64 1407.19 1519.2 Q1405.38 1522.75 1405.38 1529.87 Q1405.38 1536.98 1407.19 1540.55 Q1409.02 1544.09 1412.63 1544.09 Q1416.26 1544.09 1418.07 1540.55 Q1419.89 1536.98 1419.89 1529.87 Q1419.89 1522.75 1418.07 1519.2 Q1416.26 1515.64 1412.63 1515.64 M1412.63 1511.93 Q1418.44 1511.93 1421.49 1516.54 Q1424.57 1521.12 1424.57 1529.87 Q1424.57 1538.6 1421.49 1543.21 Q1418.44 1547.79 1412.63 1547.79 Q1406.82 1547.79 1403.74 1543.21 Q1400.68 1538.6 1400.68 1529.87 Q1400.68 1521.12 1403.74 1516.54 Q1406.82 1511.93 1412.63 1511.93 Z\" fill=\"#000000\" fill-rule=\"evenodd\" fill-opacity=\"1\" /><path clip-path=\"url(#clip900)\" d=\"M 0 0 M1688.26 1543.18 L1695.9 1543.18 L1695.9 1516.82 L1687.59 1518.49 L1687.59 1514.23 L1695.86 1512.56 L1700.53 1512.56 L1700.53 1543.18 L1708.17 1543.18 L1708.17 1547.12 L1688.26 1547.12 L1688.26 1543.18 Z\" fill=\"#000000\" fill-rule=\"evenodd\" fill-opacity=\"1\" /><path clip-path=\"url(#clip900)\" d=\"M 0 0 M1717.62 1541.24 L1722.5 1541.24 L1722.5 1547.12 L1717.62 1547.12 L1717.62 1541.24 Z\" fill=\"#000000\" fill-rule=\"evenodd\" fill-opacity=\"1\" /><path clip-path=\"url(#clip900)\" d=\"M 0 0 M1742.68 1515.64 Q1739.07 1515.64 1737.24 1519.2 Q1735.44 1522.75 1735.44 1529.87 Q1735.44 1536.98 1737.24 1540.55 Q1739.07 1544.09 1742.68 1544.09 Q1746.32 1544.09 1748.12 1540.55 Q1749.95 1536.98 1749.95 1529.87 Q1749.95 1522.75 1748.12 1519.2 Q1746.32 1515.64 1742.68 1515.64 M1742.68 1511.93 Q1748.49 1511.93 1751.55 1516.54 Q1754.63 1521.12 1754.63 1529.87 Q1754.63 1538.6 1751.55 1543.21 Q1748.49 1547.79 1742.68 1547.79 Q1736.87 1547.79 1733.8 1543.21 Q1730.74 1538.6 1730.74 1529.87 Q1730.74 1521.12 1733.8 1516.54 Q1736.87 1511.93 1742.68 1511.93 Z\" fill=\"#000000\" fill-rule=\"evenodd\" fill-opacity=\"1\" /><path clip-path=\"url(#clip900)\" d=\"M 0 0 M1772.85 1515.64 Q1769.24 1515.64 1767.41 1519.2 Q1765.6 1522.75 1765.6 1529.87 Q1765.6 1536.98 1767.41 1540.55 Q1769.24 1544.09 1772.85 1544.09 Q1776.48 1544.09 1778.29 1540.55 Q1780.11 1536.98 1780.11 1529.87 Q1780.11 1522.75 1778.29 1519.2 Q1776.48 1515.64 1772.85 1515.64 M1772.85 1511.93 Q1778.66 1511.93 1781.71 1516.54 Q1784.79 1521.12 1784.79 1529.87 Q1784.79 1538.6 1781.71 1543.21 Q1778.66 1547.79 1772.85 1547.79 Q1767.04 1547.79 1763.96 1543.21 Q1760.9 1538.6 1760.9 1529.87 Q1760.9 1521.12 1763.96 1516.54 Q1767.04 1511.93 1772.85 1511.93 Z\" fill=\"#000000\" fill-rule=\"evenodd\" fill-opacity=\"1\" /><path clip-path=\"url(#clip900)\" d=\"M 0 0 M1793.05 1512.56 L1811.41 1512.56 L1811.41 1516.5 L1797.34 1516.5 L1797.34 1524.97 Q1798.36 1524.62 1799.37 1524.46 Q1800.39 1524.27 1801.41 1524.27 Q1807.2 1524.27 1810.58 1527.44 Q1813.96 1530.62 1813.96 1536.03 Q1813.96 1541.61 1810.48 1544.71 Q1807.01 1547.79 1800.69 1547.79 Q1798.52 1547.79 1796.25 1547.42 Q1794 1547.05 1791.6 1546.31 L1791.6 1541.61 Q1793.68 1542.74 1795.9 1543.3 Q1798.12 1543.86 1800.6 1543.86 Q1804.61 1543.86 1806.94 1541.75 Q1809.28 1539.64 1809.28 1536.03 Q1809.28 1532.42 1806.94 1530.31 Q1804.61 1528.21 1800.6 1528.21 Q1798.73 1528.21 1796.85 1528.62 Q1795 1529.04 1793.05 1529.92 L1793.05 1512.56 Z\" fill=\"#000000\" fill-rule=\"evenodd\" fill-opacity=\"1\" /><path clip-path=\"url(#clip900)\" d=\"M 0 0 M2077.65 1543.18 L2085.29 1543.18 L2085.29 1516.82 L2076.98 1518.49 L2076.98 1514.23 L2085.24 1512.56 L2089.92 1512.56 L2089.92 1543.18 L2097.56 1543.18 L2097.56 1547.12 L2077.65 1547.12 L2077.65 1543.18 Z\" fill=\"#000000\" fill-rule=\"evenodd\" fill-opacity=\"1\" /><path clip-path=\"url(#clip900)\" d=\"M 0 0 M2107 1541.24 L2111.89 1541.24 L2111.89 1547.12 L2107 1547.12 L2107 1541.24 Z\" fill=\"#000000\" fill-rule=\"evenodd\" fill-opacity=\"1\" /><path clip-path=\"url(#clip900)\" d=\"M 0 0 M2132.07 1515.64 Q2128.46 1515.64 2126.63 1519.2 Q2124.83 1522.75 2124.83 1529.87 Q2124.83 1536.98 2126.63 1540.55 Q2128.46 1544.09 2132.07 1544.09 Q2135.71 1544.09 2137.51 1540.55 Q2139.34 1536.98 2139.34 1529.87 Q2139.34 1522.75 2137.51 1519.2 Q2135.71 1515.64 2132.07 1515.64 M2132.07 1511.93 Q2137.88 1511.93 2140.94 1516.54 Q2144.02 1521.12 2144.02 1529.87 Q2144.02 1538.6 2140.94 1543.21 Q2137.88 1547.79 2132.07 1547.79 Q2126.26 1547.79 2123.18 1543.21 Q2120.13 1538.6 2120.13 1529.87 Q2120.13 1521.12 2123.18 1516.54 Q2126.26 1511.93 2132.07 1511.93 Z\" fill=\"#000000\" fill-rule=\"evenodd\" fill-opacity=\"1\" /><path clip-path=\"url(#clip900)\" d=\"M 0 0 M2153.04 1543.18 L2160.68 1543.18 L2160.68 1516.82 L2152.37 1518.49 L2152.37 1514.23 L2160.64 1512.56 L2165.31 1512.56 L2165.31 1543.18 L2172.95 1543.18 L2172.95 1547.12 L2153.04 1547.12 L2153.04 1543.18 Z\" fill=\"#000000\" fill-rule=\"evenodd\" fill-opacity=\"1\" /><path clip-path=\"url(#clip900)\" d=\"M 0 0 M2192.39 1515.64 Q2188.78 1515.64 2186.95 1519.2 Q2185.15 1522.75 2185.15 1529.87 Q2185.15 1536.98 2186.95 1540.55 Q2188.78 1544.09 2192.39 1544.09 Q2196.03 1544.09 2197.83 1540.55 Q2199.66 1536.98 2199.66 1529.87 Q2199.66 1522.75 2197.83 1519.2 Q2196.03 1515.64 2192.39 1515.64 M2192.39 1511.93 Q2198.2 1511.93 2201.26 1516.54 Q2204.34 1521.12 2204.34 1529.87 Q2204.34 1538.6 2201.26 1543.21 Q2198.2 1547.79 2192.39 1547.79 Q2186.58 1547.79 2183.51 1543.21 Q2180.45 1538.6 2180.45 1529.87 Q2180.45 1521.12 2183.51 1516.54 Q2186.58 1511.93 2192.39 1511.93 Z\" fill=\"#000000\" fill-rule=\"evenodd\" fill-opacity=\"1\" /><polyline clip-path=\"url(#clip902)\" style=\"stroke:#000000; stroke-width:2; stroke-opacity:0.1; fill:none\" points=\"\n",
       "  369.025,1187.72 2352.76,1187.72 \n",
       "  \"/>\n",
       "<polyline clip-path=\"url(#clip902)\" style=\"stroke:#000000; stroke-width:2; stroke-opacity:0.1; fill:none\" points=\"\n",
       "  369.025,855.394 2352.76,855.394 \n",
       "  \"/>\n",
       "<polyline clip-path=\"url(#clip902)\" style=\"stroke:#000000; stroke-width:2; stroke-opacity:0.1; fill:none\" points=\"\n",
       "  369.025,523.073 2352.76,523.073 \n",
       "  \"/>\n",
       "<polyline clip-path=\"url(#clip902)\" style=\"stroke:#000000; stroke-width:2; stroke-opacity:0.1; fill:none\" points=\"\n",
       "  369.025,190.751 2352.76,190.751 \n",
       "  \"/>\n",
       "<polyline clip-path=\"url(#clip900)\" style=\"stroke:#000000; stroke-width:4; stroke-opacity:1; fill:none\" points=\"\n",
       "  369.025,1486.45 369.025,47.2441 \n",
       "  \"/>\n",
       "<polyline clip-path=\"url(#clip900)\" style=\"stroke:#000000; stroke-width:4; stroke-opacity:1; fill:none\" points=\"\n",
       "  369.025,1187.72 392.83,1187.72 \n",
       "  \"/>\n",
       "<polyline clip-path=\"url(#clip900)\" style=\"stroke:#000000; stroke-width:4; stroke-opacity:1; fill:none\" points=\"\n",
       "  369.025,855.394 392.83,855.394 \n",
       "  \"/>\n",
       "<polyline clip-path=\"url(#clip900)\" style=\"stroke:#000000; stroke-width:4; stroke-opacity:1; fill:none\" points=\"\n",
       "  369.025,523.073 392.83,523.073 \n",
       "  \"/>\n",
       "<polyline clip-path=\"url(#clip900)\" style=\"stroke:#000000; stroke-width:4; stroke-opacity:1; fill:none\" points=\"\n",
       "  369.025,190.751 392.83,190.751 \n",
       "  \"/>\n",
       "<path clip-path=\"url(#clip900)\" d=\"M 0 0 M50.9921 1194.61 L80.6679 1194.61 L80.6679 1198.55 L50.9921 1198.55 L50.9921 1194.61 Z\" fill=\"#000000\" fill-rule=\"evenodd\" fill-opacity=\"1\" /><path clip-path=\"url(#clip900)\" d=\"M 0 0 M94.7882 1207.51 L111.108 1207.51 L111.108 1211.44 L89.1632 1211.44 L89.1632 1207.51 Q91.8252 1204.75 96.4085 1200.12 Q101.015 1195.47 102.196 1194.13 Q104.441 1191.61 105.321 1189.87 Q106.223 1188.11 106.223 1186.42 Q106.223 1183.67 104.279 1181.93 Q102.358 1180.19 99.2558 1180.19 Q97.0567 1180.19 94.603 1180.96 Q92.1725 1181.72 89.3947 1183.27 L89.3947 1178.55 Q92.2188 1177.42 94.6724 1176.84 Q97.1261 1176.26 99.1632 1176.26 Q104.534 1176.26 107.728 1178.94 Q110.922 1181.63 110.922 1186.12 Q110.922 1188.25 110.112 1190.17 Q109.325 1192.07 107.219 1194.66 Q106.64 1195.33 103.538 1198.55 Q100.436 1201.74 94.7882 1207.51 Z\" fill=\"#000000\" fill-rule=\"evenodd\" fill-opacity=\"1\" /><path clip-path=\"url(#clip900)\" d=\"M 0 0 M120.922 1205.56 L125.807 1205.56 L125.807 1211.44 L120.922 1211.44 L120.922 1205.56 Z\" fill=\"#000000\" fill-rule=\"evenodd\" fill-opacity=\"1\" /><path clip-path=\"url(#clip900)\" d=\"M 0 0 M145.992 1179.96 Q142.381 1179.96 140.552 1183.53 Q138.746 1187.07 138.746 1194.2 Q138.746 1201.3 140.552 1204.87 Q142.381 1208.41 145.992 1208.41 Q149.626 1208.41 151.431 1204.87 Q153.26 1201.3 153.26 1194.2 Q153.26 1187.07 151.431 1183.53 Q149.626 1179.96 145.992 1179.96 M145.992 1176.26 Q151.802 1176.26 154.857 1180.86 Q157.936 1185.45 157.936 1194.2 Q157.936 1202.92 154.857 1207.53 Q151.802 1212.11 145.992 1212.11 Q140.181 1212.11 137.103 1207.53 Q134.047 1202.92 134.047 1194.2 Q134.047 1185.45 137.103 1180.86 Q140.181 1176.26 145.992 1176.26 Z\" fill=\"#000000\" fill-rule=\"evenodd\" fill-opacity=\"1\" /><path clip-path=\"url(#clip900)\" d=\"M 0 0 M194.325 1185.98 L183.746 1196.61 L194.325 1207.18 L191.57 1209.98 L180.945 1199.36 L170.32 1209.98 L167.589 1207.18 L178.144 1196.61 L167.589 1185.98 L170.32 1183.18 L180.945 1193.8 L191.57 1183.18 L194.325 1185.98 Z\" fill=\"#000000\" fill-rule=\"evenodd\" fill-opacity=\"1\" /><path clip-path=\"url(#clip900)\" d=\"M 0 0 M206.686 1207.51 L214.325 1207.51 L214.325 1181.14 L206.014 1182.81 L206.014 1178.55 L214.278 1176.88 L218.954 1176.88 L218.954 1207.51 L226.593 1207.51 L226.593 1211.44 L206.686 1211.44 L206.686 1207.51 Z\" fill=\"#000000\" fill-rule=\"evenodd\" fill-opacity=\"1\" /><path clip-path=\"url(#clip900)\" d=\"M 0 0 M246.037 1179.96 Q242.426 1179.96 240.598 1183.53 Q238.792 1187.07 238.792 1194.2 Q238.792 1201.3 240.598 1204.87 Q242.426 1208.41 246.037 1208.41 Q249.672 1208.41 251.477 1204.87 Q253.306 1201.3 253.306 1194.2 Q253.306 1187.07 251.477 1183.53 Q249.672 1179.96 246.037 1179.96 M246.037 1176.26 Q251.848 1176.26 254.903 1180.86 Q257.982 1185.45 257.982 1194.2 Q257.982 1202.92 254.903 1207.53 Q251.848 1212.11 246.037 1212.11 Q240.227 1212.11 237.149 1207.53 Q234.093 1202.92 234.093 1194.2 Q234.093 1185.45 237.149 1180.86 Q240.227 1176.26 246.037 1176.26 Z\" fill=\"#000000\" fill-rule=\"evenodd\" fill-opacity=\"1\" /><path clip-path=\"url(#clip900)\" d=\"M 0 0 M257.982 1170.36 L282.093 1170.36 L282.093 1173.56 L257.982 1173.56 L257.982 1170.36 Z\" fill=\"#000000\" fill-rule=\"evenodd\" fill-opacity=\"1\" /><path clip-path=\"url(#clip900)\" d=\"M 0 0 M290.952 1180.84 L297.158 1180.84 L297.158 1159.41 L290.406 1160.77 L290.406 1157.31 L297.121 1155.95 L300.92 1155.95 L300.92 1180.84 L307.126 1180.84 L307.126 1184.03 L290.952 1184.03 L290.952 1180.84 Z\" fill=\"#000000\" fill-rule=\"evenodd\" fill-opacity=\"1\" /><path clip-path=\"url(#clip900)\" d=\"M 0 0 M325.238 1159.26 L315.646 1174.25 L325.238 1174.25 L325.238 1159.26 M324.242 1155.95 L329.019 1155.95 L329.019 1174.25 L333.025 1174.25 L333.025 1177.41 L329.019 1177.41 L329.019 1184.03 L325.238 1184.03 L325.238 1177.41 L312.562 1177.41 L312.562 1173.75 L324.242 1155.95 Z\" fill=\"#000000\" fill-rule=\"evenodd\" fill-opacity=\"1\" /><path clip-path=\"url(#clip900)\" d=\"M 0 0 M321.08 841.193 Q317.469 841.193 315.641 844.758 Q313.835 848.299 313.835 855.429 Q313.835 862.535 315.641 866.1 Q317.469 869.642 321.08 869.642 Q324.715 869.642 326.52 866.1 Q328.349 862.535 328.349 855.429 Q328.349 848.299 326.52 844.758 Q324.715 841.193 321.08 841.193 M321.08 837.489 Q326.891 837.489 329.946 842.096 Q333.025 846.679 333.025 855.429 Q333.025 864.156 329.946 868.762 Q326.891 873.345 321.08 873.345 Q315.27 873.345 312.192 868.762 Q309.136 864.156 309.136 855.429 Q309.136 846.679 312.192 842.096 Q315.27 837.489 321.08 837.489 Z\" fill=\"#000000\" fill-rule=\"evenodd\" fill-opacity=\"1\" /><path clip-path=\"url(#clip900)\" d=\"M 0 0 M94.7882 542.865 L111.108 542.865 L111.108 546.8 L89.1632 546.8 L89.1632 542.865 Q91.8252 540.111 96.4085 535.481 Q101.015 530.828 102.196 529.486 Q104.441 526.962 105.321 525.226 Q106.223 523.467 106.223 521.777 Q106.223 519.023 104.279 517.287 Q102.358 515.551 99.2558 515.551 Q97.0567 515.551 94.603 516.314 Q92.1725 517.078 89.3947 518.629 L89.3947 513.907 Q92.2188 512.773 94.6724 512.194 Q97.1261 511.615 99.1632 511.615 Q104.534 511.615 107.728 514.301 Q110.922 516.986 110.922 521.476 Q110.922 523.606 110.112 525.527 Q109.325 527.425 107.219 530.018 Q106.64 530.689 103.538 533.907 Q100.436 537.101 94.7882 542.865 Z\" fill=\"#000000\" fill-rule=\"evenodd\" fill-opacity=\"1\" /><path clip-path=\"url(#clip900)\" d=\"M 0 0 M120.922 540.921 L125.807 540.921 L125.807 546.8 L120.922 546.8 L120.922 540.921 Z\" fill=\"#000000\" fill-rule=\"evenodd\" fill-opacity=\"1\" /><path clip-path=\"url(#clip900)\" d=\"M 0 0 M145.992 515.319 Q142.381 515.319 140.552 518.884 Q138.746 522.425 138.746 529.555 Q138.746 536.662 140.552 540.226 Q142.381 543.768 145.992 543.768 Q149.626 543.768 151.431 540.226 Q153.26 536.662 153.26 529.555 Q153.26 522.425 151.431 518.884 Q149.626 515.319 145.992 515.319 M145.992 511.615 Q151.802 511.615 154.857 516.222 Q157.936 520.805 157.936 529.555 Q157.936 538.282 154.857 542.888 Q151.802 547.472 145.992 547.472 Q140.181 547.472 137.103 542.888 Q134.047 538.282 134.047 529.555 Q134.047 520.805 137.103 516.222 Q140.181 511.615 145.992 511.615 Z\" fill=\"#000000\" fill-rule=\"evenodd\" fill-opacity=\"1\" /><path clip-path=\"url(#clip900)\" d=\"M 0 0 M194.325 521.338 L183.746 531.962 L194.325 542.541 L191.57 545.342 L180.945 534.717 L170.32 545.342 L167.589 542.541 L178.144 531.962 L167.589 521.338 L170.32 518.537 L180.945 529.162 L191.57 518.537 L194.325 521.338 Z\" fill=\"#000000\" fill-rule=\"evenodd\" fill-opacity=\"1\" /><path clip-path=\"url(#clip900)\" d=\"M 0 0 M206.686 542.865 L214.325 542.865 L214.325 516.5 L206.014 518.166 L206.014 513.907 L214.278 512.24 L218.954 512.24 L218.954 542.865 L226.593 542.865 L226.593 546.8 L206.686 546.8 L206.686 542.865 Z\" fill=\"#000000\" fill-rule=\"evenodd\" fill-opacity=\"1\" /><path clip-path=\"url(#clip900)\" d=\"M 0 0 M246.037 515.319 Q242.426 515.319 240.598 518.884 Q238.792 522.425 238.792 529.555 Q238.792 536.662 240.598 540.226 Q242.426 543.768 246.037 543.768 Q249.672 543.768 251.477 540.226 Q253.306 536.662 253.306 529.555 Q253.306 522.425 251.477 518.884 Q249.672 515.319 246.037 515.319 M246.037 511.615 Q251.848 511.615 254.903 516.222 Q257.982 520.805 257.982 529.555 Q257.982 538.282 254.903 542.888 Q251.848 547.472 246.037 547.472 Q240.227 547.472 237.149 542.888 Q234.093 538.282 234.093 529.555 Q234.093 520.805 237.149 516.222 Q240.227 511.615 246.037 511.615 Z\" fill=\"#000000\" fill-rule=\"evenodd\" fill-opacity=\"1\" /><path clip-path=\"url(#clip900)\" d=\"M 0 0 M257.982 505.717 L282.093 505.717 L282.093 508.914 L257.982 508.914 L257.982 505.717 Z\" fill=\"#000000\" fill-rule=\"evenodd\" fill-opacity=\"1\" /><path clip-path=\"url(#clip900)\" d=\"M 0 0 M290.952 516.193 L297.158 516.193 L297.158 494.771 L290.406 496.125 L290.406 492.664 L297.121 491.31 L300.92 491.31 L300.92 516.193 L307.126 516.193 L307.126 519.39 L290.952 519.39 L290.952 516.193 Z\" fill=\"#000000\" fill-rule=\"evenodd\" fill-opacity=\"1\" /><path clip-path=\"url(#clip900)\" d=\"M 0 0 M325.238 494.62 L315.646 509.61 L325.238 509.61 L325.238 494.62 M324.242 491.31 L329.019 491.31 L329.019 509.61 L333.025 509.61 L333.025 512.77 L329.019 512.77 L329.019 519.39 L325.238 519.39 L325.238 512.77 L312.562 512.77 L312.562 509.102 L324.242 491.31 Z\" fill=\"#000000\" fill-rule=\"evenodd\" fill-opacity=\"1\" /><path clip-path=\"url(#clip900)\" d=\"M 0 0 M103.608 183.993 L91.8021 202.442 L103.608 202.442 L103.608 183.993 M102.381 179.919 L108.26 179.919 L108.26 202.442 L113.191 202.442 L113.191 206.331 L108.26 206.331 L108.26 214.479 L103.608 214.479 L103.608 206.331 L88.0058 206.331 L88.0058 201.817 L102.381 179.919 Z\" fill=\"#000000\" fill-rule=\"evenodd\" fill-opacity=\"1\" /><path clip-path=\"url(#clip900)\" d=\"M 0 0 M120.922 208.599 L125.807 208.599 L125.807 214.479 L120.922 214.479 L120.922 208.599 Z\" fill=\"#000000\" fill-rule=\"evenodd\" fill-opacity=\"1\" /><path clip-path=\"url(#clip900)\" d=\"M 0 0 M145.992 182.998 Q142.381 182.998 140.552 186.562 Q138.746 190.104 138.746 197.234 Q138.746 204.34 140.552 207.905 Q142.381 211.447 145.992 211.447 Q149.626 211.447 151.431 207.905 Q153.26 204.34 153.26 197.234 Q153.26 190.104 151.431 186.562 Q149.626 182.998 145.992 182.998 M145.992 179.294 Q151.802 179.294 154.857 183.9 Q157.936 188.484 157.936 197.234 Q157.936 205.96 154.857 210.567 Q151.802 215.15 145.992 215.15 Q140.181 215.15 137.103 210.567 Q134.047 205.96 134.047 197.234 Q134.047 188.484 137.103 183.9 Q140.181 179.294 145.992 179.294 Z\" fill=\"#000000\" fill-rule=\"evenodd\" fill-opacity=\"1\" /><path clip-path=\"url(#clip900)\" d=\"M 0 0 M194.325 189.016 L183.746 199.641 L194.325 210.22 L191.57 213.021 L180.945 202.396 L170.32 213.021 L167.589 210.22 L178.144 199.641 L167.589 189.016 L170.32 186.215 L180.945 196.84 L191.57 186.215 L194.325 189.016 Z\" fill=\"#000000\" fill-rule=\"evenodd\" fill-opacity=\"1\" /><path clip-path=\"url(#clip900)\" d=\"M 0 0 M206.686 210.544 L214.325 210.544 L214.325 184.178 L206.014 185.845 L206.014 181.586 L214.278 179.919 L218.954 179.919 L218.954 210.544 L226.593 210.544 L226.593 214.479 L206.686 214.479 L206.686 210.544 Z\" fill=\"#000000\" fill-rule=\"evenodd\" fill-opacity=\"1\" /><path clip-path=\"url(#clip900)\" d=\"M 0 0 M246.037 182.998 Q242.426 182.998 240.598 186.562 Q238.792 190.104 238.792 197.234 Q238.792 204.34 240.598 207.905 Q242.426 211.447 246.037 211.447 Q249.672 211.447 251.477 207.905 Q253.306 204.34 253.306 197.234 Q253.306 190.104 251.477 186.562 Q249.672 182.998 246.037 182.998 M246.037 179.294 Q251.848 179.294 254.903 183.9 Q257.982 188.484 257.982 197.234 Q257.982 205.96 254.903 210.567 Q251.848 215.15 246.037 215.15 Q240.227 215.15 237.149 210.567 Q234.093 205.96 234.093 197.234 Q234.093 188.484 237.149 183.9 Q240.227 179.294 246.037 179.294 Z\" fill=\"#000000\" fill-rule=\"evenodd\" fill-opacity=\"1\" /><path clip-path=\"url(#clip900)\" d=\"M 0 0 M257.982 173.395 L282.093 173.395 L282.093 176.593 L257.982 176.593 L257.982 173.395 Z\" fill=\"#000000\" fill-rule=\"evenodd\" fill-opacity=\"1\" /><path clip-path=\"url(#clip900)\" d=\"M 0 0 M290.952 183.871 L297.158 183.871 L297.158 162.449 L290.406 163.803 L290.406 160.343 L297.121 158.989 L300.92 158.989 L300.92 183.871 L307.126 183.871 L307.126 187.069 L290.952 187.069 L290.952 183.871 Z\" fill=\"#000000\" fill-rule=\"evenodd\" fill-opacity=\"1\" /><path clip-path=\"url(#clip900)\" d=\"M 0 0 M325.238 162.299 L315.646 177.288 L325.238 177.288 L325.238 162.299 M324.242 158.989 L329.019 158.989 L329.019 177.288 L333.025 177.288 L333.025 180.448 L329.019 180.448 L329.019 187.069 L325.238 187.069 L325.238 180.448 L312.562 180.448 L312.562 176.781 L324.242 158.989 Z\" fill=\"#000000\" fill-rule=\"evenodd\" fill-opacity=\"1\" /><polyline clip-path=\"url(#clip902)\" style=\"stroke:#009af9; stroke-width:4; stroke-opacity:1; fill:none\" points=\"\n",
       "  425.168,1445.72 503.145,1239.1 581.122,1091.52 659.099,988.217 737.076,958.7 815.052,929.184 893.029,884.91 971.006,914.426 1048.98,870.152 1126.96,899.668 \n",
       "  1204.94,870.152 1282.91,884.91 1360.89,855.394 1438.87,943.942 1516.84,958.7 1594.82,811.12 1672.8,899.668 1750.77,855.394 1828.75,884.91 1906.73,840.636 \n",
       "  1984.71,811.12 2062.68,899.668 2140.66,737.33 2218.64,530.717 2296.61,87.9763 \n",
       "  \"/>\n",
       "<path clip-path=\"url(#clip900)\" d=\"\n",
       "M2013.79 216.178 L2286.63 216.178 L2286.63 95.2176 L2013.79 95.2176  Z\n",
       "  \" fill=\"#ffffff\" fill-rule=\"evenodd\" fill-opacity=\"1\"/>\n",
       "<polyline clip-path=\"url(#clip900)\" style=\"stroke:#000000; stroke-width:4; stroke-opacity:1; fill:none\" points=\"\n",
       "  2013.79,216.178 2286.63,216.178 2286.63,95.2176 2013.79,95.2176 2013.79,216.178 \n",
       "  \"/>\n",
       "<polyline clip-path=\"url(#clip900)\" style=\"stroke:#009af9; stroke-width:4; stroke-opacity:1; fill:none\" points=\"\n",
       "  2035.83,155.698 2168.08,155.698 \n",
       "  \"/>\n",
       "<path clip-path=\"url(#clip900)\" d=\"M 0 0 M2203.96 175.385 Q2202.16 180.015 2200.44 181.427 Q2198.73 182.839 2195.86 182.839 L2192.46 182.839 L2192.46 179.274 L2194.96 179.274 Q2196.72 179.274 2197.69 178.44 Q2198.66 177.607 2199.84 174.505 L2200.6 172.561 L2190.12 147.052 L2194.63 147.052 L2202.73 167.329 L2210.84 147.052 L2215.35 147.052 L2203.96 175.385 Z\" fill=\"#000000\" fill-rule=\"evenodd\" fill-opacity=\"1\" /><path clip-path=\"url(#clip900)\" d=\"M 0 0 M2222.64 169.042 L2230.28 169.042 L2230.28 142.677 L2221.97 144.343 L2221.97 140.084 L2230.23 138.418 L2234.91 138.418 L2234.91 169.042 L2242.55 169.042 L2242.55 172.978 L2222.64 172.978 L2222.64 169.042 Z\" fill=\"#000000\" fill-rule=\"evenodd\" fill-opacity=\"1\" /></svg>\n"
      ]
     },
     "execution_count": 11,
     "metadata": {},
     "output_type": "execute_result"
    }
   ],
   "source": [
    "using Plots\n",
    "x = 0.988:0.001:1.012\n",
    "y = x.^7 - 7x.^6 + 21x.^5 - 35x.^4 + 35x.^3 - 21x.^2 + 7x .- 1\n",
    "plot(x, y)"
   ]
  },
  {
   "cell_type": "markdown",
   "metadata": {},
   "source": [
    "2. Plot the polynomial `y = (x - 1)^7` at points `x`.  "
   ]
  },
  {
   "cell_type": "code",
   "execution_count": 12,
   "metadata": {},
   "outputs": [
    {
     "data": {
      "image/svg+xml": [
       "<?xml version=\"1.0\" encoding=\"utf-8\"?>\n",
       "<svg xmlns=\"http://www.w3.org/2000/svg\" xmlns:xlink=\"http://www.w3.org/1999/xlink\" width=\"600\" height=\"400\" viewBox=\"0 0 2400 1600\">\n",
       "<defs>\n",
       "  <clipPath id=\"clip940\">\n",
       "    <rect x=\"0\" y=\"0\" width=\"2400\" height=\"1600\"/>\n",
       "  </clipPath>\n",
       "</defs>\n",
       "<path clip-path=\"url(#clip940)\" d=\"\n",
       "M0 1600 L2400 1600 L2400 0 L0 0  Z\n",
       "  \" fill=\"#ffffff\" fill-rule=\"evenodd\" fill-opacity=\"1\"/>\n",
       "<defs>\n",
       "  <clipPath id=\"clip941\">\n",
       "    <rect x=\"480\" y=\"0\" width=\"1681\" height=\"1600\"/>\n",
       "  </clipPath>\n",
       "</defs>\n",
       "<path clip-path=\"url(#clip940)\" d=\"\n",
       "M369.025 1486.45 L2352.76 1486.45 L2352.76 47.2441 L369.025 47.2441  Z\n",
       "  \" fill=\"#ffffff\" fill-rule=\"evenodd\" fill-opacity=\"1\"/>\n",
       "<defs>\n",
       "  <clipPath id=\"clip942\">\n",
       "    <rect x=\"369\" y=\"47\" width=\"1985\" height=\"1440\"/>\n",
       "  </clipPath>\n",
       "</defs>\n",
       "<polyline clip-path=\"url(#clip942)\" style=\"stroke:#000000; stroke-width:2; stroke-opacity:0.1; fill:none\" points=\"\n",
       "  581.122,1486.45 581.122,47.2441 \n",
       "  \"/>\n",
       "<polyline clip-path=\"url(#clip942)\" style=\"stroke:#000000; stroke-width:2; stroke-opacity:0.1; fill:none\" points=\"\n",
       "  971.006,1486.45 971.006,47.2441 \n",
       "  \"/>\n",
       "<polyline clip-path=\"url(#clip942)\" style=\"stroke:#000000; stroke-width:2; stroke-opacity:0.1; fill:none\" points=\"\n",
       "  1360.89,1486.45 1360.89,47.2441 \n",
       "  \"/>\n",
       "<polyline clip-path=\"url(#clip942)\" style=\"stroke:#000000; stroke-width:2; stroke-opacity:0.1; fill:none\" points=\"\n",
       "  1750.77,1486.45 1750.77,47.2441 \n",
       "  \"/>\n",
       "<polyline clip-path=\"url(#clip942)\" style=\"stroke:#000000; stroke-width:2; stroke-opacity:0.1; fill:none\" points=\"\n",
       "  2140.66,1486.45 2140.66,47.2441 \n",
       "  \"/>\n",
       "<polyline clip-path=\"url(#clip940)\" style=\"stroke:#000000; stroke-width:4; stroke-opacity:1; fill:none\" points=\"\n",
       "  369.025,1486.45 2352.76,1486.45 \n",
       "  \"/>\n",
       "<polyline clip-path=\"url(#clip940)\" style=\"stroke:#000000; stroke-width:4; stroke-opacity:1; fill:none\" points=\"\n",
       "  581.122,1486.45 581.122,1469.18 \n",
       "  \"/>\n",
       "<polyline clip-path=\"url(#clip940)\" style=\"stroke:#000000; stroke-width:4; stroke-opacity:1; fill:none\" points=\"\n",
       "  971.006,1486.45 971.006,1469.18 \n",
       "  \"/>\n",
       "<polyline clip-path=\"url(#clip940)\" style=\"stroke:#000000; stroke-width:4; stroke-opacity:1; fill:none\" points=\"\n",
       "  1360.89,1486.45 1360.89,1469.18 \n",
       "  \"/>\n",
       "<polyline clip-path=\"url(#clip940)\" style=\"stroke:#000000; stroke-width:4; stroke-opacity:1; fill:none\" points=\"\n",
       "  1750.77,1486.45 1750.77,1469.18 \n",
       "  \"/>\n",
       "<polyline clip-path=\"url(#clip940)\" style=\"stroke:#000000; stroke-width:4; stroke-opacity:1; fill:none\" points=\"\n",
       "  2140.66,1486.45 2140.66,1469.18 \n",
       "  \"/>\n",
       "<path clip-path=\"url(#clip940)\" d=\"M 0 0 M528.344 1515.64 Q524.733 1515.64 522.905 1519.2 Q521.099 1522.75 521.099 1529.87 Q521.099 1536.98 522.905 1540.55 Q524.733 1544.09 528.344 1544.09 Q531.979 1544.09 533.784 1540.55 Q535.613 1536.98 535.613 1529.87 Q535.613 1522.75 533.784 1519.2 Q531.979 1515.64 528.344 1515.64 M528.344 1511.93 Q534.154 1511.93 537.21 1516.54 Q540.289 1521.12 540.289 1529.87 Q540.289 1538.6 537.21 1543.21 Q534.154 1547.79 528.344 1547.79 Q522.534 1547.79 519.455 1543.21 Q516.4 1538.6 516.4 1529.87 Q516.4 1521.12 519.455 1516.54 Q522.534 1511.93 528.344 1511.93 Z\" fill=\"#000000\" fill-rule=\"evenodd\" fill-opacity=\"1\" /><path clip-path=\"url(#clip940)\" d=\"M 0 0 M548.506 1541.24 L553.39 1541.24 L553.39 1547.12 L548.506 1547.12 L548.506 1541.24 Z\" fill=\"#000000\" fill-rule=\"evenodd\" fill-opacity=\"1\" /><path clip-path=\"url(#clip940)\" d=\"M 0 0 M563.714 1546.4 L563.714 1542.14 Q565.474 1542.98 567.279 1543.42 Q569.085 1543.86 570.821 1543.86 Q575.451 1543.86 577.881 1540.75 Q580.335 1537.63 580.682 1531.29 Q579.339 1533.28 577.279 1534.34 Q575.219 1535.41 572.719 1535.41 Q567.534 1535.41 564.502 1532.28 Q561.492 1529.13 561.492 1523.69 Q561.492 1518.37 564.64 1515.15 Q567.789 1511.93 573.02 1511.93 Q579.015 1511.93 582.163 1516.54 Q585.335 1521.12 585.335 1529.87 Q585.335 1538.05 581.446 1542.93 Q577.58 1547.79 571.029 1547.79 Q569.27 1547.79 567.464 1547.44 Q565.659 1547.1 563.714 1546.4 M573.02 1531.75 Q576.168 1531.75 577.997 1529.6 Q579.849 1527.44 579.849 1523.69 Q579.849 1519.97 577.997 1517.81 Q576.168 1515.64 573.02 1515.64 Q569.872 1515.64 568.02 1517.81 Q566.191 1519.97 566.191 1523.69 Q566.191 1527.44 568.02 1529.6 Q569.872 1531.75 573.02 1531.75 Z\" fill=\"#000000\" fill-rule=\"evenodd\" fill-opacity=\"1\" /><path clip-path=\"url(#clip940)\" d=\"M 0 0 M593.876 1546.4 L593.876 1542.14 Q595.636 1542.98 597.441 1543.42 Q599.247 1543.86 600.983 1543.86 Q605.612 1543.86 608.043 1540.75 Q610.497 1537.63 610.844 1531.29 Q609.501 1533.28 607.441 1534.34 Q605.381 1535.41 602.881 1535.41 Q597.696 1535.41 594.663 1532.28 Q591.654 1529.13 591.654 1523.69 Q591.654 1518.37 594.802 1515.15 Q597.95 1511.93 603.182 1511.93 Q609.177 1511.93 612.325 1516.54 Q615.497 1521.12 615.497 1529.87 Q615.497 1538.05 611.608 1542.93 Q607.742 1547.79 601.191 1547.79 Q599.432 1547.79 597.626 1547.44 Q595.821 1547.1 593.876 1546.4 M603.182 1531.75 Q606.33 1531.75 608.159 1529.6 Q610.011 1527.44 610.011 1523.69 Q610.011 1519.97 608.159 1517.81 Q606.33 1515.64 603.182 1515.64 Q600.034 1515.64 598.182 1517.81 Q596.353 1519.97 596.353 1523.69 Q596.353 1527.44 598.182 1529.6 Q600.034 1531.75 603.182 1531.75 Z\" fill=\"#000000\" fill-rule=\"evenodd\" fill-opacity=\"1\" /><path clip-path=\"url(#clip940)\" d=\"M 0 0 M633.899 1515.64 Q630.288 1515.64 628.46 1519.2 Q626.654 1522.75 626.654 1529.87 Q626.654 1536.98 628.46 1540.55 Q630.288 1544.09 633.899 1544.09 Q637.534 1544.09 639.339 1540.55 Q641.168 1536.98 641.168 1529.87 Q641.168 1522.75 639.339 1519.2 Q637.534 1515.64 633.899 1515.64 M633.899 1511.93 Q639.709 1511.93 642.765 1516.54 Q645.844 1521.12 645.844 1529.87 Q645.844 1538.6 642.765 1543.21 Q639.709 1547.79 633.899 1547.79 Q628.089 1547.79 625.01 1543.21 Q621.955 1538.6 621.955 1529.87 Q621.955 1521.12 625.01 1516.54 Q628.089 1511.93 633.899 1511.93 Z\" fill=\"#000000\" fill-rule=\"evenodd\" fill-opacity=\"1\" /><path clip-path=\"url(#clip940)\" d=\"M 0 0 M918.726 1515.64 Q915.115 1515.64 913.286 1519.2 Q911.481 1522.75 911.481 1529.87 Q911.481 1536.98 913.286 1540.55 Q915.115 1544.09 918.726 1544.09 Q922.36 1544.09 924.166 1540.55 Q925.995 1536.98 925.995 1529.87 Q925.995 1522.75 924.166 1519.2 Q922.36 1515.64 918.726 1515.64 M918.726 1511.93 Q924.536 1511.93 927.592 1516.54 Q930.671 1521.12 930.671 1529.87 Q930.671 1538.6 927.592 1543.21 Q924.536 1547.79 918.726 1547.79 Q912.916 1547.79 909.837 1543.21 Q906.782 1538.6 906.782 1529.87 Q906.782 1521.12 909.837 1516.54 Q912.916 1511.93 918.726 1511.93 Z\" fill=\"#000000\" fill-rule=\"evenodd\" fill-opacity=\"1\" /><path clip-path=\"url(#clip940)\" d=\"M 0 0 M938.888 1541.24 L943.772 1541.24 L943.772 1547.12 L938.888 1547.12 L938.888 1541.24 Z\" fill=\"#000000\" fill-rule=\"evenodd\" fill-opacity=\"1\" /><path clip-path=\"url(#clip940)\" d=\"M 0 0 M954.096 1546.4 L954.096 1542.14 Q955.856 1542.98 957.661 1543.42 Q959.467 1543.86 961.203 1543.86 Q965.832 1543.86 968.263 1540.75 Q970.717 1537.63 971.064 1531.29 Q969.721 1533.28 967.661 1534.34 Q965.601 1535.41 963.101 1535.41 Q957.916 1535.41 954.883 1532.28 Q951.874 1529.13 951.874 1523.69 Q951.874 1518.37 955.022 1515.15 Q958.17 1511.93 963.402 1511.93 Q969.397 1511.93 972.545 1516.54 Q975.717 1521.12 975.717 1529.87 Q975.717 1538.05 971.828 1542.93 Q967.962 1547.79 961.411 1547.79 Q959.652 1547.79 957.846 1547.44 Q956.041 1547.1 954.096 1546.4 M963.402 1531.75 Q966.55 1531.75 968.379 1529.6 Q970.231 1527.44 970.231 1523.69 Q970.231 1519.97 968.379 1517.81 Q966.55 1515.64 963.402 1515.64 Q960.254 1515.64 958.402 1517.81 Q956.573 1519.97 956.573 1523.69 Q956.573 1527.44 958.402 1529.6 Q960.254 1531.75 963.402 1531.75 Z\" fill=\"#000000\" fill-rule=\"evenodd\" fill-opacity=\"1\" /><path clip-path=\"url(#clip940)\" d=\"M 0 0 M984.258 1546.4 L984.258 1542.14 Q986.018 1542.98 987.823 1543.42 Q989.629 1543.86 991.365 1543.86 Q995.994 1543.86 998.425 1540.75 Q1000.88 1537.63 1001.23 1531.29 Q999.883 1533.28 997.823 1534.34 Q995.763 1535.41 993.263 1535.41 Q988.078 1535.41 985.045 1532.28 Q982.036 1529.13 982.036 1523.69 Q982.036 1518.37 985.184 1515.15 Q988.332 1511.93 993.564 1511.93 Q999.559 1511.93 1002.71 1516.54 Q1005.88 1521.12 1005.88 1529.87 Q1005.88 1538.05 1001.99 1542.93 Q998.124 1547.79 991.573 1547.79 Q989.814 1547.79 988.008 1547.44 Q986.203 1547.1 984.258 1546.4 M993.564 1531.75 Q996.712 1531.75 998.541 1529.6 Q1000.39 1527.44 1000.39 1523.69 Q1000.39 1519.97 998.541 1517.81 Q996.712 1515.64 993.564 1515.64 Q990.416 1515.64 988.564 1517.81 Q986.735 1519.97 986.735 1523.69 Q986.735 1527.44 988.564 1529.6 Q990.416 1531.75 993.564 1531.75 Z\" fill=\"#000000\" fill-rule=\"evenodd\" fill-opacity=\"1\" /><path clip-path=\"url(#clip940)\" d=\"M 0 0 M1014.33 1512.56 L1032.68 1512.56 L1032.68 1516.5 L1018.61 1516.5 L1018.61 1524.97 Q1019.63 1524.62 1020.65 1524.46 Q1021.67 1524.27 1022.68 1524.27 Q1028.47 1524.27 1031.85 1527.44 Q1035.23 1530.62 1035.23 1536.03 Q1035.23 1541.61 1031.76 1544.71 Q1028.29 1547.79 1021.97 1547.79 Q1019.79 1547.79 1017.52 1547.42 Q1015.28 1547.05 1012.87 1546.31 L1012.87 1541.61 Q1014.95 1542.74 1017.17 1543.3 Q1019.4 1543.86 1021.87 1543.86 Q1025.88 1543.86 1028.22 1541.75 Q1030.55 1539.64 1030.55 1536.03 Q1030.55 1532.42 1028.22 1530.31 Q1025.88 1528.21 1021.87 1528.21 Q1020 1528.21 1018.12 1528.62 Q1016.27 1529.04 1014.33 1529.92 L1014.33 1512.56 Z\" fill=\"#000000\" fill-rule=\"evenodd\" fill-opacity=\"1\" /><path clip-path=\"url(#clip940)\" d=\"M 0 0 M1297.88 1543.18 L1305.52 1543.18 L1305.52 1516.82 L1297.21 1518.49 L1297.21 1514.23 L1305.47 1512.56 L1310.15 1512.56 L1310.15 1543.18 L1317.79 1543.18 L1317.79 1547.12 L1297.88 1547.12 L1297.88 1543.18 Z\" fill=\"#000000\" fill-rule=\"evenodd\" fill-opacity=\"1\" /><path clip-path=\"url(#clip940)\" d=\"M 0 0 M1327.23 1541.24 L1332.12 1541.24 L1332.12 1547.12 L1327.23 1547.12 L1327.23 1541.24 Z\" fill=\"#000000\" fill-rule=\"evenodd\" fill-opacity=\"1\" /><path clip-path=\"url(#clip940)\" d=\"M 0 0 M1352.3 1515.64 Q1348.69 1515.64 1346.86 1519.2 Q1345.06 1522.75 1345.06 1529.87 Q1345.06 1536.98 1346.86 1540.55 Q1348.69 1544.09 1352.3 1544.09 Q1355.94 1544.09 1357.74 1540.55 Q1359.57 1536.98 1359.57 1529.87 Q1359.57 1522.75 1357.74 1519.2 Q1355.94 1515.64 1352.3 1515.64 M1352.3 1511.93 Q1358.11 1511.93 1361.17 1516.54 Q1364.25 1521.12 1364.25 1529.87 Q1364.25 1538.6 1361.17 1543.21 Q1358.11 1547.79 1352.3 1547.79 Q1346.49 1547.79 1343.41 1543.21 Q1340.36 1538.6 1340.36 1529.87 Q1340.36 1521.12 1343.41 1516.54 Q1346.49 1511.93 1352.3 1511.93 Z\" fill=\"#000000\" fill-rule=\"evenodd\" fill-opacity=\"1\" /><path clip-path=\"url(#clip940)\" d=\"M 0 0 M1382.46 1515.64 Q1378.85 1515.64 1377.02 1519.2 Q1375.22 1522.75 1375.22 1529.87 Q1375.22 1536.98 1377.02 1540.55 Q1378.85 1544.09 1382.46 1544.09 Q1386.1 1544.09 1387.9 1540.55 Q1389.73 1536.98 1389.73 1529.87 Q1389.73 1522.75 1387.9 1519.2 Q1386.1 1515.64 1382.46 1515.64 M1382.46 1511.93 Q1388.27 1511.93 1391.33 1516.54 Q1394.41 1521.12 1394.41 1529.87 Q1394.41 1538.6 1391.33 1543.21 Q1388.27 1547.79 1382.46 1547.79 Q1376.65 1547.79 1373.58 1543.21 Q1370.52 1538.6 1370.52 1529.87 Q1370.52 1521.12 1373.58 1516.54 Q1376.65 1511.93 1382.46 1511.93 Z\" fill=\"#000000\" fill-rule=\"evenodd\" fill-opacity=\"1\" /><path clip-path=\"url(#clip940)\" d=\"M 0 0 M1412.63 1515.64 Q1409.02 1515.64 1407.19 1519.2 Q1405.38 1522.75 1405.38 1529.87 Q1405.38 1536.98 1407.19 1540.55 Q1409.02 1544.09 1412.63 1544.09 Q1416.26 1544.09 1418.07 1540.55 Q1419.89 1536.98 1419.89 1529.87 Q1419.89 1522.75 1418.07 1519.2 Q1416.26 1515.64 1412.63 1515.64 M1412.63 1511.93 Q1418.44 1511.93 1421.49 1516.54 Q1424.57 1521.12 1424.57 1529.87 Q1424.57 1538.6 1421.49 1543.21 Q1418.44 1547.79 1412.63 1547.79 Q1406.82 1547.79 1403.74 1543.21 Q1400.68 1538.6 1400.68 1529.87 Q1400.68 1521.12 1403.74 1516.54 Q1406.82 1511.93 1412.63 1511.93 Z\" fill=\"#000000\" fill-rule=\"evenodd\" fill-opacity=\"1\" /><path clip-path=\"url(#clip940)\" d=\"M 0 0 M1688.26 1543.18 L1695.9 1543.18 L1695.9 1516.82 L1687.59 1518.49 L1687.59 1514.23 L1695.86 1512.56 L1700.53 1512.56 L1700.53 1543.18 L1708.17 1543.18 L1708.17 1547.12 L1688.26 1547.12 L1688.26 1543.18 Z\" fill=\"#000000\" fill-rule=\"evenodd\" fill-opacity=\"1\" /><path clip-path=\"url(#clip940)\" d=\"M 0 0 M1717.62 1541.24 L1722.5 1541.24 L1722.5 1547.12 L1717.62 1547.12 L1717.62 1541.24 Z\" fill=\"#000000\" fill-rule=\"evenodd\" fill-opacity=\"1\" /><path clip-path=\"url(#clip940)\" d=\"M 0 0 M1742.68 1515.64 Q1739.07 1515.64 1737.24 1519.2 Q1735.44 1522.75 1735.44 1529.87 Q1735.44 1536.98 1737.24 1540.55 Q1739.07 1544.09 1742.68 1544.09 Q1746.32 1544.09 1748.12 1540.55 Q1749.95 1536.98 1749.95 1529.87 Q1749.95 1522.75 1748.12 1519.2 Q1746.32 1515.64 1742.68 1515.64 M1742.68 1511.93 Q1748.49 1511.93 1751.55 1516.54 Q1754.63 1521.12 1754.63 1529.87 Q1754.63 1538.6 1751.55 1543.21 Q1748.49 1547.79 1742.68 1547.79 Q1736.87 1547.79 1733.8 1543.21 Q1730.74 1538.6 1730.74 1529.87 Q1730.74 1521.12 1733.8 1516.54 Q1736.87 1511.93 1742.68 1511.93 Z\" fill=\"#000000\" fill-rule=\"evenodd\" fill-opacity=\"1\" /><path clip-path=\"url(#clip940)\" d=\"M 0 0 M1772.85 1515.64 Q1769.24 1515.64 1767.41 1519.2 Q1765.6 1522.75 1765.6 1529.87 Q1765.6 1536.98 1767.41 1540.55 Q1769.24 1544.09 1772.85 1544.09 Q1776.48 1544.09 1778.29 1540.55 Q1780.11 1536.98 1780.11 1529.87 Q1780.11 1522.75 1778.29 1519.2 Q1776.48 1515.64 1772.85 1515.64 M1772.85 1511.93 Q1778.66 1511.93 1781.71 1516.54 Q1784.79 1521.12 1784.79 1529.87 Q1784.79 1538.6 1781.71 1543.21 Q1778.66 1547.79 1772.85 1547.79 Q1767.04 1547.79 1763.96 1543.21 Q1760.9 1538.6 1760.9 1529.87 Q1760.9 1521.12 1763.96 1516.54 Q1767.04 1511.93 1772.85 1511.93 Z\" fill=\"#000000\" fill-rule=\"evenodd\" fill-opacity=\"1\" /><path clip-path=\"url(#clip940)\" d=\"M 0 0 M1793.05 1512.56 L1811.41 1512.56 L1811.41 1516.5 L1797.34 1516.5 L1797.34 1524.97 Q1798.36 1524.62 1799.37 1524.46 Q1800.39 1524.27 1801.41 1524.27 Q1807.2 1524.27 1810.58 1527.44 Q1813.96 1530.62 1813.96 1536.03 Q1813.96 1541.61 1810.48 1544.71 Q1807.01 1547.79 1800.69 1547.79 Q1798.52 1547.79 1796.25 1547.42 Q1794 1547.05 1791.6 1546.31 L1791.6 1541.61 Q1793.68 1542.74 1795.9 1543.3 Q1798.12 1543.86 1800.6 1543.86 Q1804.61 1543.86 1806.94 1541.75 Q1809.28 1539.64 1809.28 1536.03 Q1809.28 1532.42 1806.94 1530.31 Q1804.61 1528.21 1800.6 1528.21 Q1798.73 1528.21 1796.85 1528.62 Q1795 1529.04 1793.05 1529.92 L1793.05 1512.56 Z\" fill=\"#000000\" fill-rule=\"evenodd\" fill-opacity=\"1\" /><path clip-path=\"url(#clip940)\" d=\"M 0 0 M2077.65 1543.18 L2085.29 1543.18 L2085.29 1516.82 L2076.98 1518.49 L2076.98 1514.23 L2085.24 1512.56 L2089.92 1512.56 L2089.92 1543.18 L2097.56 1543.18 L2097.56 1547.12 L2077.65 1547.12 L2077.65 1543.18 Z\" fill=\"#000000\" fill-rule=\"evenodd\" fill-opacity=\"1\" /><path clip-path=\"url(#clip940)\" d=\"M 0 0 M2107 1541.24 L2111.89 1541.24 L2111.89 1547.12 L2107 1547.12 L2107 1541.24 Z\" fill=\"#000000\" fill-rule=\"evenodd\" fill-opacity=\"1\" /><path clip-path=\"url(#clip940)\" d=\"M 0 0 M2132.07 1515.64 Q2128.46 1515.64 2126.63 1519.2 Q2124.83 1522.75 2124.83 1529.87 Q2124.83 1536.98 2126.63 1540.55 Q2128.46 1544.09 2132.07 1544.09 Q2135.71 1544.09 2137.51 1540.55 Q2139.34 1536.98 2139.34 1529.87 Q2139.34 1522.75 2137.51 1519.2 Q2135.71 1515.64 2132.07 1515.64 M2132.07 1511.93 Q2137.88 1511.93 2140.94 1516.54 Q2144.02 1521.12 2144.02 1529.87 Q2144.02 1538.6 2140.94 1543.21 Q2137.88 1547.79 2132.07 1547.79 Q2126.26 1547.79 2123.18 1543.21 Q2120.13 1538.6 2120.13 1529.87 Q2120.13 1521.12 2123.18 1516.54 Q2126.26 1511.93 2132.07 1511.93 Z\" fill=\"#000000\" fill-rule=\"evenodd\" fill-opacity=\"1\" /><path clip-path=\"url(#clip940)\" d=\"M 0 0 M2153.04 1543.18 L2160.68 1543.18 L2160.68 1516.82 L2152.37 1518.49 L2152.37 1514.23 L2160.64 1512.56 L2165.31 1512.56 L2165.31 1543.18 L2172.95 1543.18 L2172.95 1547.12 L2153.04 1547.12 L2153.04 1543.18 Z\" fill=\"#000000\" fill-rule=\"evenodd\" fill-opacity=\"1\" /><path clip-path=\"url(#clip940)\" d=\"M 0 0 M2192.39 1515.64 Q2188.78 1515.64 2186.95 1519.2 Q2185.15 1522.75 2185.15 1529.87 Q2185.15 1536.98 2186.95 1540.55 Q2188.78 1544.09 2192.39 1544.09 Q2196.03 1544.09 2197.83 1540.55 Q2199.66 1536.98 2199.66 1529.87 Q2199.66 1522.75 2197.83 1519.2 Q2196.03 1515.64 2192.39 1515.64 M2192.39 1511.93 Q2198.2 1511.93 2201.26 1516.54 Q2204.34 1521.12 2204.34 1529.87 Q2204.34 1538.6 2201.26 1543.21 Q2198.2 1547.79 2192.39 1547.79 Q2186.58 1547.79 2183.51 1543.21 Q2180.45 1538.6 2180.45 1529.87 Q2180.45 1521.12 2183.51 1516.54 Q2186.58 1511.93 2192.39 1511.93 Z\" fill=\"#000000\" fill-rule=\"evenodd\" fill-opacity=\"1\" /><polyline clip-path=\"url(#clip942)\" style=\"stroke:#000000; stroke-width:2; stroke-opacity:0.1; fill:none\" points=\"\n",
       "  369.025,1335.23 2352.76,1335.23 \n",
       "  \"/>\n",
       "<polyline clip-path=\"url(#clip942)\" style=\"stroke:#000000; stroke-width:2; stroke-opacity:0.1; fill:none\" points=\"\n",
       "  369.025,1145.77 2352.76,1145.77 \n",
       "  \"/>\n",
       "<polyline clip-path=\"url(#clip942)\" style=\"stroke:#000000; stroke-width:2; stroke-opacity:0.1; fill:none\" points=\"\n",
       "  369.025,956.306 2352.76,956.306 \n",
       "  \"/>\n",
       "<polyline clip-path=\"url(#clip942)\" style=\"stroke:#000000; stroke-width:2; stroke-opacity:0.1; fill:none\" points=\"\n",
       "  369.025,766.846 2352.76,766.846 \n",
       "  \"/>\n",
       "<polyline clip-path=\"url(#clip942)\" style=\"stroke:#000000; stroke-width:2; stroke-opacity:0.1; fill:none\" points=\"\n",
       "  369.025,577.386 2352.76,577.386 \n",
       "  \"/>\n",
       "<polyline clip-path=\"url(#clip942)\" style=\"stroke:#000000; stroke-width:2; stroke-opacity:0.1; fill:none\" points=\"\n",
       "  369.025,387.926 2352.76,387.926 \n",
       "  \"/>\n",
       "<polyline clip-path=\"url(#clip942)\" style=\"stroke:#000000; stroke-width:2; stroke-opacity:0.1; fill:none\" points=\"\n",
       "  369.025,198.466 2352.76,198.466 \n",
       "  \"/>\n",
       "<polyline clip-path=\"url(#clip940)\" style=\"stroke:#000000; stroke-width:4; stroke-opacity:1; fill:none\" points=\"\n",
       "  369.025,1486.45 369.025,47.2441 \n",
       "  \"/>\n",
       "<polyline clip-path=\"url(#clip940)\" style=\"stroke:#000000; stroke-width:4; stroke-opacity:1; fill:none\" points=\"\n",
       "  369.025,1335.23 392.83,1335.23 \n",
       "  \"/>\n",
       "<polyline clip-path=\"url(#clip940)\" style=\"stroke:#000000; stroke-width:4; stroke-opacity:1; fill:none\" points=\"\n",
       "  369.025,1145.77 392.83,1145.77 \n",
       "  \"/>\n",
       "<polyline clip-path=\"url(#clip940)\" style=\"stroke:#000000; stroke-width:4; stroke-opacity:1; fill:none\" points=\"\n",
       "  369.025,956.306 392.83,956.306 \n",
       "  \"/>\n",
       "<polyline clip-path=\"url(#clip940)\" style=\"stroke:#000000; stroke-width:4; stroke-opacity:1; fill:none\" points=\"\n",
       "  369.025,766.846 392.83,766.846 \n",
       "  \"/>\n",
       "<polyline clip-path=\"url(#clip940)\" style=\"stroke:#000000; stroke-width:4; stroke-opacity:1; fill:none\" points=\"\n",
       "  369.025,577.386 392.83,577.386 \n",
       "  \"/>\n",
       "<polyline clip-path=\"url(#clip940)\" style=\"stroke:#000000; stroke-width:4; stroke-opacity:1; fill:none\" points=\"\n",
       "  369.025,387.926 392.83,387.926 \n",
       "  \"/>\n",
       "<polyline clip-path=\"url(#clip940)\" style=\"stroke:#000000; stroke-width:4; stroke-opacity:1; fill:none\" points=\"\n",
       "  369.025,198.466 392.83,198.466 \n",
       "  \"/>\n",
       "<path clip-path=\"url(#clip940)\" d=\"M 0 0 M50.9921 1342.13 L80.6679 1342.13 L80.6679 1346.06 L50.9921 1346.06 L50.9921 1342.13 Z\" fill=\"#000000\" fill-rule=\"evenodd\" fill-opacity=\"1\" /><path clip-path=\"url(#clip940)\" d=\"M 0 0 M104.927 1340.32 Q108.283 1341.04 110.158 1343.31 Q112.057 1345.57 112.057 1348.91 Q112.057 1354.02 108.538 1356.82 Q105.02 1359.63 98.5382 1359.63 Q96.3623 1359.63 94.0475 1359.19 Q91.7558 1358.77 89.3021 1357.91 L89.3021 1353.4 Q91.2465 1354.53 93.5613 1355.11 Q95.8761 1355.69 98.3993 1355.69 Q102.797 1355.69 105.089 1353.95 Q107.404 1352.22 107.404 1348.91 Q107.404 1345.85 105.251 1344.14 Q103.121 1342.4 99.3021 1342.4 L95.2743 1342.4 L95.2743 1338.56 L99.4872 1338.56 Q102.936 1338.56 104.765 1337.19 Q106.594 1335.81 106.594 1333.21 Q106.594 1330.55 104.696 1329.14 Q102.821 1327.7 99.3021 1327.7 Q97.3808 1327.7 95.1817 1328.12 Q92.9826 1328.54 90.3438 1329.42 L90.3438 1325.25 Q93.0058 1324.51 95.3206 1324.14 Q97.6585 1323.77 99.7187 1323.77 Q105.043 1323.77 108.145 1326.2 Q111.246 1328.61 111.246 1332.73 Q111.246 1335.6 109.603 1337.59 Q107.959 1339.56 104.927 1340.32 Z\" fill=\"#000000\" fill-rule=\"evenodd\" fill-opacity=\"1\" /><path clip-path=\"url(#clip940)\" d=\"M 0 0 M120.922 1353.07 L125.807 1353.07 L125.807 1358.95 L120.922 1358.95 L120.922 1353.07 Z\" fill=\"#000000\" fill-rule=\"evenodd\" fill-opacity=\"1\" /><path clip-path=\"url(#clip940)\" d=\"M 0 0 M145.992 1327.47 Q142.381 1327.47 140.552 1331.04 Q138.746 1334.58 138.746 1341.71 Q138.746 1348.81 140.552 1352.38 Q142.381 1355.92 145.992 1355.92 Q149.626 1355.92 151.431 1352.38 Q153.26 1348.81 153.26 1341.71 Q153.26 1334.58 151.431 1331.04 Q149.626 1327.47 145.992 1327.47 M145.992 1323.77 Q151.802 1323.77 154.857 1328.38 Q157.936 1332.96 157.936 1341.71 Q157.936 1350.44 154.857 1355.04 Q151.802 1359.63 145.992 1359.63 Q140.181 1359.63 137.103 1355.04 Q134.047 1350.44 134.047 1341.71 Q134.047 1332.96 137.103 1328.38 Q140.181 1323.77 145.992 1323.77 Z\" fill=\"#000000\" fill-rule=\"evenodd\" fill-opacity=\"1\" /><path clip-path=\"url(#clip940)\" d=\"M 0 0 M194.325 1333.49 L183.746 1344.12 L194.325 1354.69 L191.57 1357.5 L180.945 1346.87 L170.32 1357.5 L167.589 1354.69 L178.144 1344.12 L167.589 1333.49 L170.32 1330.69 L180.945 1341.32 L191.57 1330.69 L194.325 1333.49 Z\" fill=\"#000000\" fill-rule=\"evenodd\" fill-opacity=\"1\" /><path clip-path=\"url(#clip940)\" d=\"M 0 0 M206.686 1355.02 L214.325 1355.02 L214.325 1328.65 L206.014 1330.32 L206.014 1326.06 L214.278 1324.39 L218.954 1324.39 L218.954 1355.02 L226.593 1355.02 L226.593 1358.95 L206.686 1358.95 L206.686 1355.02 Z\" fill=\"#000000\" fill-rule=\"evenodd\" fill-opacity=\"1\" /><path clip-path=\"url(#clip940)\" d=\"M 0 0 M246.037 1327.47 Q242.426 1327.47 240.598 1331.04 Q238.792 1334.58 238.792 1341.71 Q238.792 1348.81 240.598 1352.38 Q242.426 1355.92 246.037 1355.92 Q249.672 1355.92 251.477 1352.38 Q253.306 1348.81 253.306 1341.71 Q253.306 1334.58 251.477 1331.04 Q249.672 1327.47 246.037 1327.47 M246.037 1323.77 Q251.848 1323.77 254.903 1328.38 Q257.982 1332.96 257.982 1341.71 Q257.982 1350.44 254.903 1355.04 Q251.848 1359.63 246.037 1359.63 Q240.227 1359.63 237.149 1355.04 Q234.093 1350.44 234.093 1341.71 Q234.093 1332.96 237.149 1328.38 Q240.227 1323.77 246.037 1323.77 Z\" fill=\"#000000\" fill-rule=\"evenodd\" fill-opacity=\"1\" /><path clip-path=\"url(#clip940)\" d=\"M 0 0 M257.982 1317.87 L282.093 1317.87 L282.093 1321.07 L257.982 1321.07 L257.982 1317.87 Z\" fill=\"#000000\" fill-rule=\"evenodd\" fill-opacity=\"1\" /><path clip-path=\"url(#clip940)\" d=\"M 0 0 M290.952 1328.35 L297.158 1328.35 L297.158 1306.92 L290.406 1308.28 L290.406 1304.82 L297.121 1303.46 L300.92 1303.46 L300.92 1328.35 L307.126 1328.35 L307.126 1331.54 L290.952 1331.54 L290.952 1328.35 Z\" fill=\"#000000\" fill-rule=\"evenodd\" fill-opacity=\"1\" /><path clip-path=\"url(#clip940)\" d=\"M 0 0 M325.238 1306.77 L315.646 1321.76 L325.238 1321.76 L325.238 1306.77 M324.242 1303.46 L329.019 1303.46 L329.019 1321.76 L333.025 1321.76 L333.025 1324.92 L329.019 1324.92 L329.019 1331.54 L325.238 1331.54 L325.238 1324.92 L312.562 1324.92 L312.562 1321.26 L324.242 1303.46 Z\" fill=\"#000000\" fill-rule=\"evenodd\" fill-opacity=\"1\" /><path clip-path=\"url(#clip940)\" d=\"M 0 0 M50.9921 1152.67 L80.6679 1152.67 L80.6679 1156.6 L50.9921 1156.6 L50.9921 1152.67 Z\" fill=\"#000000\" fill-rule=\"evenodd\" fill-opacity=\"1\" /><path clip-path=\"url(#clip940)\" d=\"M 0 0 M94.7882 1165.56 L111.108 1165.56 L111.108 1169.49 L89.1632 1169.49 L89.1632 1165.56 Q91.8252 1162.8 96.4085 1158.17 Q101.015 1153.52 102.196 1152.18 Q104.441 1149.66 105.321 1147.92 Q106.223 1146.16 106.223 1144.47 Q106.223 1141.72 104.279 1139.98 Q102.358 1138.24 99.2558 1138.24 Q97.0567 1138.24 94.603 1139.01 Q92.1725 1139.77 89.3947 1141.32 L89.3947 1136.6 Q92.2188 1135.47 94.6724 1134.89 Q97.1261 1134.31 99.1632 1134.31 Q104.534 1134.31 107.728 1136.99 Q110.922 1139.68 110.922 1144.17 Q110.922 1146.3 110.112 1148.22 Q109.325 1150.12 107.219 1152.71 Q106.64 1153.38 103.538 1156.6 Q100.436 1159.79 94.7882 1165.56 Z\" fill=\"#000000\" fill-rule=\"evenodd\" fill-opacity=\"1\" /><path clip-path=\"url(#clip940)\" d=\"M 0 0 M120.922 1163.61 L125.807 1163.61 L125.807 1169.49 L120.922 1169.49 L120.922 1163.61 Z\" fill=\"#000000\" fill-rule=\"evenodd\" fill-opacity=\"1\" /><path clip-path=\"url(#clip940)\" d=\"M 0 0 M145.992 1138.01 Q142.381 1138.01 140.552 1141.58 Q138.746 1145.12 138.746 1152.25 Q138.746 1159.35 140.552 1162.92 Q142.381 1166.46 145.992 1166.46 Q149.626 1166.46 151.431 1162.92 Q153.26 1159.35 153.26 1152.25 Q153.26 1145.12 151.431 1141.58 Q149.626 1138.01 145.992 1138.01 M145.992 1134.31 Q151.802 1134.31 154.857 1138.92 Q157.936 1143.5 157.936 1152.25 Q157.936 1160.98 154.857 1165.58 Q151.802 1170.17 145.992 1170.17 Q140.181 1170.17 137.103 1165.58 Q134.047 1160.98 134.047 1152.25 Q134.047 1143.5 137.103 1138.92 Q140.181 1134.31 145.992 1134.31 Z\" fill=\"#000000\" fill-rule=\"evenodd\" fill-opacity=\"1\" /><path clip-path=\"url(#clip940)\" d=\"M 0 0 M194.325 1144.03 L183.746 1154.66 L194.325 1165.23 L191.57 1168.04 L180.945 1157.41 L170.32 1168.04 L167.589 1165.23 L178.144 1154.66 L167.589 1144.03 L170.32 1141.23 L180.945 1151.85 L191.57 1141.23 L194.325 1144.03 Z\" fill=\"#000000\" fill-rule=\"evenodd\" fill-opacity=\"1\" /><path clip-path=\"url(#clip940)\" d=\"M 0 0 M206.686 1165.56 L214.325 1165.56 L214.325 1139.19 L206.014 1140.86 L206.014 1136.6 L214.278 1134.93 L218.954 1134.93 L218.954 1165.56 L226.593 1165.56 L226.593 1169.49 L206.686 1169.49 L206.686 1165.56 Z\" fill=\"#000000\" fill-rule=\"evenodd\" fill-opacity=\"1\" /><path clip-path=\"url(#clip940)\" d=\"M 0 0 M246.037 1138.01 Q242.426 1138.01 240.598 1141.58 Q238.792 1145.12 238.792 1152.25 Q238.792 1159.35 240.598 1162.92 Q242.426 1166.46 246.037 1166.46 Q249.672 1166.46 251.477 1162.92 Q253.306 1159.35 253.306 1152.25 Q253.306 1145.12 251.477 1141.58 Q249.672 1138.01 246.037 1138.01 M246.037 1134.31 Q251.848 1134.31 254.903 1138.92 Q257.982 1143.5 257.982 1152.25 Q257.982 1160.98 254.903 1165.58 Q251.848 1170.17 246.037 1170.17 Q240.227 1170.17 237.149 1165.58 Q234.093 1160.98 234.093 1152.25 Q234.093 1143.5 237.149 1138.92 Q240.227 1134.31 246.037 1134.31 Z\" fill=\"#000000\" fill-rule=\"evenodd\" fill-opacity=\"1\" /><path clip-path=\"url(#clip940)\" d=\"M 0 0 M257.982 1128.41 L282.093 1128.41 L282.093 1131.61 L257.982 1131.61 L257.982 1128.41 Z\" fill=\"#000000\" fill-rule=\"evenodd\" fill-opacity=\"1\" /><path clip-path=\"url(#clip940)\" d=\"M 0 0 M290.952 1138.89 L297.158 1138.89 L297.158 1117.46 L290.406 1118.82 L290.406 1115.36 L297.121 1114 L300.92 1114 L300.92 1138.89 L307.126 1138.89 L307.126 1142.08 L290.952 1142.08 L290.952 1138.89 Z\" fill=\"#000000\" fill-rule=\"evenodd\" fill-opacity=\"1\" /><path clip-path=\"url(#clip940)\" d=\"M 0 0 M325.238 1117.31 L315.646 1132.3 L325.238 1132.3 L325.238 1117.31 M324.242 1114 L329.019 1114 L329.019 1132.3 L333.025 1132.3 L333.025 1135.46 L329.019 1135.46 L329.019 1142.08 L325.238 1142.08 L325.238 1135.46 L312.562 1135.46 L312.562 1131.8 L324.242 1114 Z\" fill=\"#000000\" fill-rule=\"evenodd\" fill-opacity=\"1\" /><path clip-path=\"url(#clip940)\" d=\"M 0 0 M50.9921 963.205 L80.6679 963.205 L80.6679 967.14 L50.9921 967.14 L50.9921 963.205 Z\" fill=\"#000000\" fill-rule=\"evenodd\" fill-opacity=\"1\" /><path clip-path=\"url(#clip940)\" d=\"M 0 0 M91.5706 976.098 L99.2095 976.098 L99.2095 949.733 L90.8993 951.4 L90.8993 947.14 L99.1632 945.474 L103.839 945.474 L103.839 976.098 L111.478 976.098 L111.478 980.034 L91.5706 980.034 L91.5706 976.098 Z\" fill=\"#000000\" fill-rule=\"evenodd\" fill-opacity=\"1\" /><path clip-path=\"url(#clip940)\" d=\"M 0 0 M120.922 974.154 L125.807 974.154 L125.807 980.034 L120.922 980.034 L120.922 974.154 Z\" fill=\"#000000\" fill-rule=\"evenodd\" fill-opacity=\"1\" /><path clip-path=\"url(#clip940)\" d=\"M 0 0 M145.992 948.552 Q142.381 948.552 140.552 952.117 Q138.746 955.659 138.746 962.788 Q138.746 969.895 140.552 973.46 Q142.381 977.001 145.992 977.001 Q149.626 977.001 151.431 973.46 Q153.26 969.895 153.26 962.788 Q153.26 955.659 151.431 952.117 Q149.626 948.552 145.992 948.552 M145.992 944.849 Q151.802 944.849 154.857 949.455 Q157.936 954.038 157.936 962.788 Q157.936 971.515 154.857 976.122 Q151.802 980.705 145.992 980.705 Q140.181 980.705 137.103 976.122 Q134.047 971.515 134.047 962.788 Q134.047 954.038 137.103 949.455 Q140.181 944.849 145.992 944.849 Z\" fill=\"#000000\" fill-rule=\"evenodd\" fill-opacity=\"1\" /><path clip-path=\"url(#clip940)\" d=\"M 0 0 M194.325 954.571 L183.746 965.196 L194.325 975.774 L191.57 978.575 L180.945 967.95 L170.32 978.575 L167.589 975.774 L178.144 965.196 L167.589 954.571 L170.32 951.77 L180.945 962.395 L191.57 951.77 L194.325 954.571 Z\" fill=\"#000000\" fill-rule=\"evenodd\" fill-opacity=\"1\" /><path clip-path=\"url(#clip940)\" d=\"M 0 0 M206.686 976.098 L214.325 976.098 L214.325 949.733 L206.014 951.4 L206.014 947.14 L214.278 945.474 L218.954 945.474 L218.954 976.098 L226.593 976.098 L226.593 980.034 L206.686 980.034 L206.686 976.098 Z\" fill=\"#000000\" fill-rule=\"evenodd\" fill-opacity=\"1\" /><path clip-path=\"url(#clip940)\" d=\"M 0 0 M246.037 948.552 Q242.426 948.552 240.598 952.117 Q238.792 955.659 238.792 962.788 Q238.792 969.895 240.598 973.46 Q242.426 977.001 246.037 977.001 Q249.672 977.001 251.477 973.46 Q253.306 969.895 253.306 962.788 Q253.306 955.659 251.477 952.117 Q249.672 948.552 246.037 948.552 M246.037 944.849 Q251.848 944.849 254.903 949.455 Q257.982 954.038 257.982 962.788 Q257.982 971.515 254.903 976.122 Q251.848 980.705 246.037 980.705 Q240.227 980.705 237.149 976.122 Q234.093 971.515 234.093 962.788 Q234.093 954.038 237.149 949.455 Q240.227 944.849 246.037 944.849 Z\" fill=\"#000000\" fill-rule=\"evenodd\" fill-opacity=\"1\" /><path clip-path=\"url(#clip940)\" d=\"M 0 0 M257.982 938.95 L282.093 938.95 L282.093 942.147 L257.982 942.147 L257.982 938.95 Z\" fill=\"#000000\" fill-rule=\"evenodd\" fill-opacity=\"1\" /><path clip-path=\"url(#clip940)\" d=\"M 0 0 M290.952 949.426 L297.158 949.426 L297.158 928.004 L290.406 929.358 L290.406 925.897 L297.121 924.543 L300.92 924.543 L300.92 949.426 L307.126 949.426 L307.126 952.623 L290.952 952.623 L290.952 949.426 Z\" fill=\"#000000\" fill-rule=\"evenodd\" fill-opacity=\"1\" /><path clip-path=\"url(#clip940)\" d=\"M 0 0 M325.238 927.853 L315.646 942.843 L325.238 942.843 L325.238 927.853 M324.242 924.543 L329.019 924.543 L329.019 942.843 L333.025 942.843 L333.025 946.003 L329.019 946.003 L329.019 952.623 L325.238 952.623 L325.238 946.003 L312.562 946.003 L312.562 942.335 L324.242 924.543 Z\" fill=\"#000000\" fill-rule=\"evenodd\" fill-opacity=\"1\" /><path clip-path=\"url(#clip940)\" d=\"M 0 0 M321.08 752.645 Q317.469 752.645 315.641 756.209 Q313.835 759.751 313.835 766.881 Q313.835 773.987 315.641 777.552 Q317.469 781.094 321.08 781.094 Q324.715 781.094 326.52 777.552 Q328.349 773.987 328.349 766.881 Q328.349 759.751 326.52 756.209 Q324.715 752.645 321.08 752.645 M321.08 748.941 Q326.891 748.941 329.946 753.547 Q333.025 758.131 333.025 766.881 Q333.025 775.608 329.946 780.214 Q326.891 784.797 321.08 784.797 Q315.27 784.797 312.192 780.214 Q309.136 775.608 309.136 766.881 Q309.136 758.131 312.192 753.547 Q315.27 748.941 321.08 748.941 Z\" fill=\"#000000\" fill-rule=\"evenodd\" fill-opacity=\"1\" /><path clip-path=\"url(#clip940)\" d=\"M 0 0 M91.5706 597.178 L99.2095 597.178 L99.2095 570.813 L90.8993 572.479 L90.8993 568.22 L99.1632 566.554 L103.839 566.554 L103.839 597.178 L111.478 597.178 L111.478 601.114 L91.5706 601.114 L91.5706 597.178 Z\" fill=\"#000000\" fill-rule=\"evenodd\" fill-opacity=\"1\" /><path clip-path=\"url(#clip940)\" d=\"M 0 0 M120.922 595.234 L125.807 595.234 L125.807 601.114 L120.922 601.114 L120.922 595.234 Z\" fill=\"#000000\" fill-rule=\"evenodd\" fill-opacity=\"1\" /><path clip-path=\"url(#clip940)\" d=\"M 0 0 M145.992 569.632 Q142.381 569.632 140.552 573.197 Q138.746 576.739 138.746 583.868 Q138.746 590.975 140.552 594.539 Q142.381 598.081 145.992 598.081 Q149.626 598.081 151.431 594.539 Q153.26 590.975 153.26 583.868 Q153.26 576.739 151.431 573.197 Q149.626 569.632 145.992 569.632 M145.992 565.929 Q151.802 565.929 154.857 570.535 Q157.936 575.118 157.936 583.868 Q157.936 592.595 154.857 597.201 Q151.802 601.785 145.992 601.785 Q140.181 601.785 137.103 597.201 Q134.047 592.595 134.047 583.868 Q134.047 575.118 137.103 570.535 Q140.181 565.929 145.992 565.929 Z\" fill=\"#000000\" fill-rule=\"evenodd\" fill-opacity=\"1\" /><path clip-path=\"url(#clip940)\" d=\"M 0 0 M194.325 575.651 L183.746 586.276 L194.325 596.854 L191.57 599.655 L180.945 589.03 L170.32 599.655 L167.589 596.854 L178.144 586.276 L167.589 575.651 L170.32 572.85 L180.945 583.475 L191.57 572.85 L194.325 575.651 Z\" fill=\"#000000\" fill-rule=\"evenodd\" fill-opacity=\"1\" /><path clip-path=\"url(#clip940)\" d=\"M 0 0 M206.686 597.178 L214.325 597.178 L214.325 570.813 L206.014 572.479 L206.014 568.22 L214.278 566.554 L218.954 566.554 L218.954 597.178 L226.593 597.178 L226.593 601.114 L206.686 601.114 L206.686 597.178 Z\" fill=\"#000000\" fill-rule=\"evenodd\" fill-opacity=\"1\" /><path clip-path=\"url(#clip940)\" d=\"M 0 0 M246.037 569.632 Q242.426 569.632 240.598 573.197 Q238.792 576.739 238.792 583.868 Q238.792 590.975 240.598 594.539 Q242.426 598.081 246.037 598.081 Q249.672 598.081 251.477 594.539 Q253.306 590.975 253.306 583.868 Q253.306 576.739 251.477 573.197 Q249.672 569.632 246.037 569.632 M246.037 565.929 Q251.848 565.929 254.903 570.535 Q257.982 575.118 257.982 583.868 Q257.982 592.595 254.903 597.201 Q251.848 601.785 246.037 601.785 Q240.227 601.785 237.149 597.201 Q234.093 592.595 234.093 583.868 Q234.093 575.118 237.149 570.535 Q240.227 565.929 246.037 565.929 Z\" fill=\"#000000\" fill-rule=\"evenodd\" fill-opacity=\"1\" /><path clip-path=\"url(#clip940)\" d=\"M 0 0 M257.982 560.03 L282.093 560.03 L282.093 563.227 L257.982 563.227 L257.982 560.03 Z\" fill=\"#000000\" fill-rule=\"evenodd\" fill-opacity=\"1\" /><path clip-path=\"url(#clip940)\" d=\"M 0 0 M290.952 570.506 L297.158 570.506 L297.158 549.084 L290.406 550.438 L290.406 546.977 L297.121 545.623 L300.92 545.623 L300.92 570.506 L307.126 570.506 L307.126 573.703 L290.952 573.703 L290.952 570.506 Z\" fill=\"#000000\" fill-rule=\"evenodd\" fill-opacity=\"1\" /><path clip-path=\"url(#clip940)\" d=\"M 0 0 M325.238 548.933 L315.646 563.923 L325.238 563.923 L325.238 548.933 M324.242 545.623 L329.019 545.623 L329.019 563.923 L333.025 563.923 L333.025 567.083 L329.019 567.083 L329.019 573.703 L325.238 573.703 L325.238 567.083 L312.562 567.083 L312.562 563.415 L324.242 545.623 Z\" fill=\"#000000\" fill-rule=\"evenodd\" fill-opacity=\"1\" /><path clip-path=\"url(#clip940)\" d=\"M 0 0 M94.7882 407.718 L111.108 407.718 L111.108 411.653 L89.1632 411.653 L89.1632 407.718 Q91.8252 404.964 96.4085 400.334 Q101.015 395.681 102.196 394.339 Q104.441 391.816 105.321 390.079 Q106.223 388.32 106.223 386.63 Q106.223 383.876 104.279 382.14 Q102.358 380.404 99.2558 380.404 Q97.0567 380.404 94.603 381.167 Q92.1725 381.931 89.3947 383.482 L89.3947 378.76 Q92.2188 377.626 94.6724 377.047 Q97.1261 376.468 99.1632 376.468 Q104.534 376.468 107.728 379.154 Q110.922 381.839 110.922 386.329 Q110.922 388.459 110.112 390.38 Q109.325 392.279 107.219 394.871 Q106.64 395.542 103.538 398.76 Q100.436 401.954 94.7882 407.718 Z\" fill=\"#000000\" fill-rule=\"evenodd\" fill-opacity=\"1\" /><path clip-path=\"url(#clip940)\" d=\"M 0 0 M120.922 405.774 L125.807 405.774 L125.807 411.653 L120.922 411.653 L120.922 405.774 Z\" fill=\"#000000\" fill-rule=\"evenodd\" fill-opacity=\"1\" /><path clip-path=\"url(#clip940)\" d=\"M 0 0 M145.992 380.172 Q142.381 380.172 140.552 383.737 Q138.746 387.279 138.746 394.408 Q138.746 401.515 140.552 405.079 Q142.381 408.621 145.992 408.621 Q149.626 408.621 151.431 405.079 Q153.26 401.515 153.26 394.408 Q153.26 387.279 151.431 383.737 Q149.626 380.172 145.992 380.172 M145.992 376.468 Q151.802 376.468 154.857 381.075 Q157.936 385.658 157.936 394.408 Q157.936 403.135 154.857 407.741 Q151.802 412.325 145.992 412.325 Q140.181 412.325 137.103 407.741 Q134.047 403.135 134.047 394.408 Q134.047 385.658 137.103 381.075 Q140.181 376.468 145.992 376.468 Z\" fill=\"#000000\" fill-rule=\"evenodd\" fill-opacity=\"1\" /><path clip-path=\"url(#clip940)\" d=\"M 0 0 M194.325 386.191 L183.746 396.816 L194.325 407.394 L191.57 410.195 L180.945 399.57 L170.32 410.195 L167.589 407.394 L178.144 396.816 L167.589 386.191 L170.32 383.39 L180.945 394.015 L191.57 383.39 L194.325 386.191 Z\" fill=\"#000000\" fill-rule=\"evenodd\" fill-opacity=\"1\" /><path clip-path=\"url(#clip940)\" d=\"M 0 0 M206.686 407.718 L214.325 407.718 L214.325 381.353 L206.014 383.019 L206.014 378.76 L214.278 377.093 L218.954 377.093 L218.954 407.718 L226.593 407.718 L226.593 411.653 L206.686 411.653 L206.686 407.718 Z\" fill=\"#000000\" fill-rule=\"evenodd\" fill-opacity=\"1\" /><path clip-path=\"url(#clip940)\" d=\"M 0 0 M246.037 380.172 Q242.426 380.172 240.598 383.737 Q238.792 387.279 238.792 394.408 Q238.792 401.515 240.598 405.079 Q242.426 408.621 246.037 408.621 Q249.672 408.621 251.477 405.079 Q253.306 401.515 253.306 394.408 Q253.306 387.279 251.477 383.737 Q249.672 380.172 246.037 380.172 M246.037 376.468 Q251.848 376.468 254.903 381.075 Q257.982 385.658 257.982 394.408 Q257.982 403.135 254.903 407.741 Q251.848 412.325 246.037 412.325 Q240.227 412.325 237.149 407.741 Q234.093 403.135 234.093 394.408 Q234.093 385.658 237.149 381.075 Q240.227 376.468 246.037 376.468 Z\" fill=\"#000000\" fill-rule=\"evenodd\" fill-opacity=\"1\" /><path clip-path=\"url(#clip940)\" d=\"M 0 0 M257.982 370.57 L282.093 370.57 L282.093 373.767 L257.982 373.767 L257.982 370.57 Z\" fill=\"#000000\" fill-rule=\"evenodd\" fill-opacity=\"1\" /><path clip-path=\"url(#clip940)\" d=\"M 0 0 M290.952 381.046 L297.158 381.046 L297.158 359.624 L290.406 360.978 L290.406 357.517 L297.121 356.163 L300.92 356.163 L300.92 381.046 L307.126 381.046 L307.126 384.243 L290.952 384.243 L290.952 381.046 Z\" fill=\"#000000\" fill-rule=\"evenodd\" fill-opacity=\"1\" /><path clip-path=\"url(#clip940)\" d=\"M 0 0 M325.238 359.473 L315.646 374.463 L325.238 374.463 L325.238 359.473 M324.242 356.163 L329.019 356.163 L329.019 374.463 L333.025 374.463 L333.025 377.623 L329.019 377.623 L329.019 384.243 L325.238 384.243 L325.238 377.623 L312.562 377.623 L312.562 373.955 L324.242 356.163 Z\" fill=\"#000000\" fill-rule=\"evenodd\" fill-opacity=\"1\" /><path clip-path=\"url(#clip940)\" d=\"M 0 0 M104.927 203.559 Q108.283 204.277 110.158 206.545 Q112.057 208.814 112.057 212.147 Q112.057 217.263 108.538 220.064 Q105.02 222.865 98.5382 222.865 Q96.3623 222.865 94.0475 222.425 Q91.7558 222.008 89.3021 221.152 L89.3021 216.638 Q91.2465 217.772 93.5613 218.351 Q95.8761 218.929 98.3993 218.929 Q102.797 218.929 105.089 217.193 Q107.404 215.457 107.404 212.147 Q107.404 209.092 105.251 207.379 Q103.121 205.643 99.3021 205.643 L95.2743 205.643 L95.2743 201.8 L99.4872 201.8 Q102.936 201.8 104.765 200.434 Q106.594 199.045 106.594 196.453 Q106.594 193.791 104.696 192.379 Q102.821 190.944 99.3021 190.944 Q97.3808 190.944 95.1817 191.36 Q92.9826 191.777 90.3438 192.656 L90.3438 188.49 Q93.0058 187.749 95.3206 187.379 Q97.6585 187.008 99.7187 187.008 Q105.043 187.008 108.145 189.439 Q111.246 191.846 111.246 195.967 Q111.246 198.837 109.603 200.828 Q107.959 202.795 104.927 203.559 Z\" fill=\"#000000\" fill-rule=\"evenodd\" fill-opacity=\"1\" /><path clip-path=\"url(#clip940)\" d=\"M 0 0 M120.922 216.314 L125.807 216.314 L125.807 222.193 L120.922 222.193 L120.922 216.314 Z\" fill=\"#000000\" fill-rule=\"evenodd\" fill-opacity=\"1\" /><path clip-path=\"url(#clip940)\" d=\"M 0 0 M145.992 190.712 Q142.381 190.712 140.552 194.277 Q138.746 197.818 138.746 204.948 Q138.746 212.055 140.552 215.619 Q142.381 219.161 145.992 219.161 Q149.626 219.161 151.431 215.619 Q153.26 212.055 153.26 204.948 Q153.26 197.818 151.431 194.277 Q149.626 190.712 145.992 190.712 M145.992 187.008 Q151.802 187.008 154.857 191.615 Q157.936 196.198 157.936 204.948 Q157.936 213.675 154.857 218.281 Q151.802 222.865 145.992 222.865 Q140.181 222.865 137.103 218.281 Q134.047 213.675 134.047 204.948 Q134.047 196.198 137.103 191.615 Q140.181 187.008 145.992 187.008 Z\" fill=\"#000000\" fill-rule=\"evenodd\" fill-opacity=\"1\" /><path clip-path=\"url(#clip940)\" d=\"M 0 0 M194.325 196.731 L183.746 207.355 L194.325 217.934 L191.57 220.735 L180.945 210.11 L170.32 220.735 L167.589 217.934 L178.144 207.355 L167.589 196.731 L170.32 193.93 L180.945 204.555 L191.57 193.93 L194.325 196.731 Z\" fill=\"#000000\" fill-rule=\"evenodd\" fill-opacity=\"1\" /><path clip-path=\"url(#clip940)\" d=\"M 0 0 M206.686 218.258 L214.325 218.258 L214.325 191.893 L206.014 193.559 L206.014 189.3 L214.278 187.633 L218.954 187.633 L218.954 218.258 L226.593 218.258 L226.593 222.193 L206.686 222.193 L206.686 218.258 Z\" fill=\"#000000\" fill-rule=\"evenodd\" fill-opacity=\"1\" /><path clip-path=\"url(#clip940)\" d=\"M 0 0 M246.037 190.712 Q242.426 190.712 240.598 194.277 Q238.792 197.818 238.792 204.948 Q238.792 212.055 240.598 215.619 Q242.426 219.161 246.037 219.161 Q249.672 219.161 251.477 215.619 Q253.306 212.055 253.306 204.948 Q253.306 197.818 251.477 194.277 Q249.672 190.712 246.037 190.712 M246.037 187.008 Q251.848 187.008 254.903 191.615 Q257.982 196.198 257.982 204.948 Q257.982 213.675 254.903 218.281 Q251.848 222.865 246.037 222.865 Q240.227 222.865 237.149 218.281 Q234.093 213.675 234.093 204.948 Q234.093 196.198 237.149 191.615 Q240.227 187.008 246.037 187.008 Z\" fill=\"#000000\" fill-rule=\"evenodd\" fill-opacity=\"1\" /><path clip-path=\"url(#clip940)\" d=\"M 0 0 M257.982 181.11 L282.093 181.11 L282.093 184.307 L257.982 184.307 L257.982 181.11 Z\" fill=\"#000000\" fill-rule=\"evenodd\" fill-opacity=\"1\" /><path clip-path=\"url(#clip940)\" d=\"M 0 0 M290.952 191.586 L297.158 191.586 L297.158 170.164 L290.406 171.518 L290.406 168.057 L297.121 166.703 L300.92 166.703 L300.92 191.586 L307.126 191.586 L307.126 194.783 L290.952 194.783 L290.952 191.586 Z\" fill=\"#000000\" fill-rule=\"evenodd\" fill-opacity=\"1\" /><path clip-path=\"url(#clip940)\" d=\"M 0 0 M325.238 170.013 L315.646 185.003 L325.238 185.003 L325.238 170.013 M324.242 166.703 L329.019 166.703 L329.019 185.003 L333.025 185.003 L333.025 188.163 L329.019 188.163 L329.019 194.783 L325.238 194.783 L325.238 188.163 L312.562 188.163 L312.562 184.495 L324.242 166.703 Z\" fill=\"#000000\" fill-rule=\"evenodd\" fill-opacity=\"1\" /><polyline clip-path=\"url(#clip942)\" style=\"stroke:#009af9; stroke-width:4; stroke-opacity:1; fill:none\" points=\"\n",
       "  425.168,1445.72 503.145,1136.05 581.122,956.306 659.099,857.464 737.076,806.579 815.052,782.449 893.029,772.15 971.006,768.326 1048.98,767.156 1126.96,766.887 \n",
       "  1204.94,766.848 1282.91,766.846 1360.89,766.846 1438.87,766.846 1516.84,766.844 1594.82,766.805 1672.8,766.536 1750.77,765.366 1828.75,761.542 1906.73,751.243 \n",
       "  1984.71,727.113 2062.68,676.228 2140.66,577.386 2218.64,397.642 2296.61,87.9763 \n",
       "  \"/>\n",
       "<path clip-path=\"url(#clip940)\" d=\"\n",
       "M2013.79 216.178 L2286.63 216.178 L2286.63 95.2176 L2013.79 95.2176  Z\n",
       "  \" fill=\"#ffffff\" fill-rule=\"evenodd\" fill-opacity=\"1\"/>\n",
       "<polyline clip-path=\"url(#clip940)\" style=\"stroke:#000000; stroke-width:4; stroke-opacity:1; fill:none\" points=\"\n",
       "  2013.79,216.178 2286.63,216.178 2286.63,95.2176 2013.79,95.2176 2013.79,216.178 \n",
       "  \"/>\n",
       "<polyline clip-path=\"url(#clip940)\" style=\"stroke:#009af9; stroke-width:4; stroke-opacity:1; fill:none\" points=\"\n",
       "  2035.83,155.698 2168.08,155.698 \n",
       "  \"/>\n",
       "<path clip-path=\"url(#clip940)\" d=\"M 0 0 M2203.96 175.385 Q2202.16 180.015 2200.44 181.427 Q2198.73 182.839 2195.86 182.839 L2192.46 182.839 L2192.46 179.274 L2194.96 179.274 Q2196.72 179.274 2197.69 178.44 Q2198.66 177.607 2199.84 174.505 L2200.6 172.561 L2190.12 147.052 L2194.63 147.052 L2202.73 167.329 L2210.84 147.052 L2215.35 147.052 L2203.96 175.385 Z\" fill=\"#000000\" fill-rule=\"evenodd\" fill-opacity=\"1\" /><path clip-path=\"url(#clip940)\" d=\"M 0 0 M2222.64 169.042 L2230.28 169.042 L2230.28 142.677 L2221.97 144.343 L2221.97 140.084 L2230.23 138.418 L2234.91 138.418 L2234.91 169.042 L2242.55 169.042 L2242.55 172.978 L2222.64 172.978 L2222.64 169.042 Z\" fill=\"#000000\" fill-rule=\"evenodd\" fill-opacity=\"1\" /></svg>\n"
      ]
     },
     "execution_count": 12,
     "metadata": {},
     "output_type": "execute_result"
    }
   ],
   "source": [
    "y = (x .- 1).^7\n",
    "plot(x, y)"
   ]
  },
  {
   "cell_type": "markdown",
   "metadata": {},
   "source": [
    "3. Explain what you found.\n",
    "\n",
    "Although the equivalent results should be obtained, the first operation requires many more computations for `Float64`, which results in numerical instability due to finite precision, particularly catastrophic cancellation.  "
   ]
  },
  {
   "cell_type": "markdown",
   "metadata": {},
   "source": [
    "## Q5\n",
    "\n",
    "1. Show the **Sherman-Morrison formula**\n",
    "$$\n",
    "\t(\\mathbf{A} + \\mathbf{u} \\mathbf{u}^T)^{-1} = \\mathbf{A}^{-1} - \\frac{1}{1 + \\mathbf{u}^T \\mathbf{A}^{-1} \\mathbf{u}} \\mathbf{A}^{-1} \\mathbf{u} \\mathbf{u}^T \\mathbf{A}^{-1},\n",
    "$$\n",
    "where $\\mathbf{A} \\in \\mathbb{R}^{n \\times n}$ is nonsingular and $\\mathbf{u} \\in \\mathbb{R}^n$. This formula supplies the inverse of the symmetric, rank-one  perturbation of $\\mathbf{A}$."
   ]
  },
  {
   "cell_type": "markdown",
   "metadata": {},
   "source": [
    "Given the uniqueness of matrix inverse, it suffices to show that the matrix multiplication leads to $\\mathbf{I}_{n}$:\n",
    "\n",
    "$$\n",
    "(\\mathbf{A} + \\mathbf{u} \\mathbf{u}^T)(\\mathbf{A} + \\mathbf{u} \\mathbf{u}^T)^{-1} = \\mathbf{I}_{n} + \\mathbf{u} \\mathbf{u}^T \\mathbf{A}^{-1} - \\frac{\\mathbf{u} \\mathbf{u}^T \\mathbf{A}^{-1} + \\mathbf{u} \\mathbf{u}^T \\mathbf{A}^{-1} \\mathbf{u} \\mathbf{u}^T \\mathbf{A}^{-1}}{1 + \\mathbf{u}^T \\mathbf{A}^{-1} \\mathbf{u}} \\\\\n",
    "= \\mathbf{I}_{n} + \\mathbf{u} \\mathbf{u}^T \\mathbf{A}^{-1} - \\frac{\\mathbf{u} \\left( 1 + \\mathbf{u}^T \\mathbf{A}^{-1} \\mathbf{u} \\right) \\mathbf{u}^T \\mathbf{A}^{-1}}{1 + \\mathbf{u}^T \\mathbf{A}^{-1} \\mathbf{u}} \\\\\n",
    "= \\mathbf{I}_{n} + \\mathbf{u} \\mathbf{u}^T \\mathbf{A}^{-1} - \\mathbf{u} \\mathbf{u}^T \\mathbf{A}^{-1} = \\mathbf{I}_{n}\n",
    "$$"
   ]
  },
  {
   "cell_type": "markdown",
   "metadata": {},
   "source": [
    "2. Show the **Woodbury formula**\n",
    "$$\n",
    "\t(\\mathbf{A} + \\mathbf{U} \\mathbf{V}^T)^{-1} = \\mathbf{A}^{-1} - \\mathbf{A}^{-1} \\mathbf{U} (\\mathbf{I}_m + \\mathbf{V}^T \\mathbf{A}^{-1} \\mathbf{U})^{-1} \\mathbf{V}^T \\mathbf{A}^{-1},\n",
    "$$\n",
    "where $\\mathbf{A} \\in \\mathbb{R}^{n \\times n}$ is nonsingular, $\\mathbf{U}, \\mathbf{V} \\in \\mathbb{R}^{n \\times m}$, and $\\mathbf{I}_m$ is the $m \\times m$ identity matrix. In many applications $m$ is much smaller than $n$. Woodbury formula generalizes Sherman-Morrison and is valuable because the smaller matrix $\\mathbf{I}_m + \\mathbf{V}^T \\mathbf{A}^{-1} \\mathbf{U}$ is cheaper to invert than the larger matrix $\\mathbf{A} + \\mathbf{U} \\mathbf{V}^T$."
   ]
  },
  {
   "cell_type": "markdown",
   "metadata": {},
   "source": [
    "$$\n",
    "(\\mathbf{A} + \\mathbf{U} \\mathbf{V}^T)(\\mathbf{A} + \\mathbf{U} \\mathbf{V}^T)^{-1} = \\mathbf{I}_{n} + \\mathbf{U} \\mathbf{V}^T \\mathbf{A}^{-1} - \\mathbf{U} (\\mathbf{I}_m + \\mathbf{V}^T \\mathbf{A}^{-1} \\mathbf{U})^{-1} \\mathbf{V}^T \\mathbf{A}^{-1} - \\mathbf{U} \\mathbf{V}^T \\mathbf{A}^{-1} \\mathbf{U} (\\mathbf{I}_m + \\mathbf{V}^T \\mathbf{A}^{-1} \\mathbf{U})^{-1} \\mathbf{V}^T \\mathbf{A}^{-1} \\\\\n",
    "= \\mathbf{I}_{n} + \\mathbf{U} \\mathbf{V}^T \\mathbf{A}^{-1} - \\mathbf{U} [(\\mathbf{I}_m + \\mathbf{V}^T \\mathbf{A}^{-1} \\mathbf{U})^{-1} + \\mathbf{V}^T \\mathbf{A}^{-1} \\mathbf{U} (\\mathbf{I}_m + \\mathbf{V}^T \\mathbf{A}^{-1} \\mathbf{U})^{-1}] \\mathbf{V}^T \\mathbf{A}^{-1} \\\\\n",
    "= \\mathbf{I}_{n} + \\mathbf{U} \\mathbf{V}^T \\mathbf{A}^{-1} - \\mathbf{U} (\\mathbf{I}_m + \\mathbf{V}^T \\mathbf{A}^{-1} \\mathbf{U}) (\\mathbf{I}_m + \\mathbf{V}^T \\mathbf{A}^{-1} \\mathbf{U})^{-1} \\mathbf{V}^T \\mathbf{A}^{-1} \\\\\n",
    "= \\mathbf{I}_{n} + \\mathbf{U} \\mathbf{V}^T \\mathbf{A}^{-1} - \\mathbf{U} \\mathbf{V}^T \\mathbf{A}^{-1} = \\mathbf{I}_{n}\n",
    "$$"
   ]
  },
  {
   "cell_type": "markdown",
   "metadata": {},
   "source": [
    "3. Show the **binomial inversion formula**\n",
    "$$\n",
    "\t(\\mathbf{A} + \\mathbf{U} \\mathbf{B} \\mathbf{V}^T)^{-1} = \\mathbf{A}^{-1} - \\mathbf{A}^{-1} \\mathbf{U} (\\mathbf{B}^{-1} + \\mathbf{V}^T \\mathbf{A}^{-1} \\mathbf{U})^{-1} \\mathbf{V}^T \\mathbf{A}^{-1},\n",
    "$$\n",
    "where $\\mathbf{A}$ and $\\mathbf{B}$ are nonsingular."
   ]
  },
  {
   "cell_type": "markdown",
   "metadata": {},
   "source": [
    "$$\n",
    "(\\mathbf{A} + \\mathbf{U} \\mathbf{B} \\mathbf{V}^T)(\\mathbf{A} + \\mathbf{U} \\mathbf{B} \\mathbf{V}^T)^{-1} = \\mathbf{I}_{n} + \\mathbf{U} \\mathbf{B} \\mathbf{V}^T \\mathbf{A}^{-1} - \\mathbf{U} (\\mathbf{B}^{-1} + \\mathbf{V}^T \\mathbf{A}^{-1} \\mathbf{U})^{-1} \\mathbf{V}^T \\mathbf{A}^{-1} - \\mathbf{U} \\mathbf{B} \\mathbf{V}^T \\mathbf{A}^{-1} \\mathbf{U} (\\mathbf{B}^{-1} + \\mathbf{V}^T \\mathbf{A}^{-1} \\mathbf{U})^{-1} \\mathbf{V}^T \\mathbf{A}^{-1} \\\\\n",
    "= \\mathbf{I}_{n} + \\mathbf{U} \\mathbf{B} \\mathbf{V}^T \\mathbf{A}^{-1} - \\mathbf{U} [(\\mathbf{B}^{-1} + \\mathbf{V}^T \\mathbf{A}^{-1} \\mathbf{U})^{-1} + \\mathbf{B} \\mathbf{V}^T \\mathbf{A}^{-1} \\mathbf{U} (\\mathbf{B}^{-1} + \\mathbf{V}^T \\mathbf{A}^{-1} \\mathbf{U})^{-1}] \\mathbf{V}^T \\mathbf{A}^{-1} \\\\\n",
    "= \\mathbf{I}_{n} + \\mathbf{U} \\mathbf{B} \\mathbf{V}^T \\mathbf{A}^{-1} - \\mathbf{U} \\mathbf{B} (\\mathbf{B}^{-1} + \\mathbf{V}^T \\mathbf{A}^{-1} \\mathbf{U}) (\\mathbf{B}^{-1} + \\mathbf{V}^T \\mathbf{A}^{-1} \\mathbf{U})^{-1} \\mathbf{V}^T \\mathbf{A}^{-1} \\\\\n",
    "= \\mathbf{I}_{n} + \\mathbf{U} \\mathbf{B} \\mathbf{V}^T \\mathbf{A}^{-1} - \\mathbf{U} \\mathbf{B} \\mathbf{V}^T \\mathbf{A}^{-1} = \\mathbf{I}_{n}\n",
    "$$"
   ]
  },
  {
   "cell_type": "markdown",
   "metadata": {},
   "source": [
    "4. Show the identity\n",
    "$$\n",
    "\\text{det}(\\mathbf{A} + \\mathbf{U} \\mathbf{V}^T) = \\text{det}(\\mathbf{A}) \\text{det}(\\mathbf{I}_m + \\mathbf{V}^T \\mathbf{A}^{-1} \\mathbf{U}).\n",
    "$$\n",
    "This formula is useful for evaluating the density of a multivariate normal with covariance matrix $\\mathbf{A} + \\mathbf{U} \\mathbf{V}^T$.\n",
    "\n",
    "**Hint**: 1 and 2 are special cases of 3."
   ]
  },
  {
   "cell_type": "markdown",
   "metadata": {},
   "source": [
    "$$\n",
    "\\text{det}(\\mathbf{A} + \\mathbf{U} \\mathbf{V}^T) = \\text{det}(\\mathbf{A}) \\text{det}(\\mathbf{I}_n + \\mathbf{A}^{-1} \\mathbf{U} \\mathbf{V}^T) \\\\\n",
    "\\begin{bmatrix}\n",
    "\\mathbf{I}_n &\n",
    "\\mathbf{0}_{n \\times m} \\\\\n",
    "\\mathbf{V}^T &\n",
    "\\mathbf{I}_m\n",
    "\\end{bmatrix}\n",
    "\\begin{bmatrix}\n",
    "\\mathbf{I}_n + \\mathbf{A}^{-1} \\mathbf{U} \\mathbf{V}^T &\n",
    "\\mathbf{A}^{-1} \\mathbf{U} \\\\\n",
    "\\mathbf{0}_{m \\times n} &\n",
    "\\mathbf{I}_m\n",
    "\\end{bmatrix}\n",
    "\\begin{bmatrix}\n",
    "\\mathbf{I}_n &\n",
    "\\mathbf{0}_{n \\times m} \\\\\n",
    "-\\mathbf{V}^T &\n",
    "\\mathbf{I}_m\n",
    "\\end{bmatrix} = \n",
    "\\begin{bmatrix}\n",
    "\\mathbf{I}_n &\n",
    "\\mathbf{A}^{-1} \\mathbf{U}  \\\\\n",
    "\\mathbf{0}_{m \\times m} &\n",
    "\\mathbf{I}_m + \\mathbf{V}^T \\mathbf{A}^{-1} \\mathbf{U}\n",
    "\\end{bmatrix} \\\\\n",
    "\\therefore \\text{det}(\\mathbf{I}_n + \\mathbf{A}^{-1} \\mathbf{U} \\mathbf{V}^T) = \n",
    "\\text{det}(\\mathbf{I}_m + \\mathbf{V}^T \\mathbf{A}^{-1} \\mathbf{U}), \\\\\n",
    "\\text{det}(\\mathbf{A} + \\mathbf{U} \\mathbf{V}^T) = \\text{det}(\\mathbf{A}) \\text{det}(\\mathbf{I}_m + \\mathbf{V}^T \\mathbf{A}^{-1} \\mathbf{U})\n",
    "$$"
   ]
  },
  {
   "cell_type": "markdown",
   "metadata": {},
   "source": [
    "## Q6\n",
    "\n",
    "Demonstrate the following facts about triangular matrices in Julia (one example for each fact). Mathematically curious ones are also encouraged to prove them. \n",
    "\n",
    "Note a unit triangular matrix is a triangular matrix with all diagonal entries being 1.\n",
    "\n",
    "1. The product of two upper (lower) triangular matrices is upper (lower) triangular."
   ]
  },
  {
   "cell_type": "code",
   "execution_count": 13,
   "metadata": {},
   "outputs": [],
   "source": [
    "using Random\n",
    "Random.seed!(1234)\n",
    "\n",
    "x = zeros(5, 5)\n",
    "y = zeros(5, 5)\n",
    "for i in 1:size(x, 1), j in 1:size(x, 2)\n",
    "    if i >= j\n",
    "        x[i, j] = rand()\n",
    "        y[i, j] = rand()\n",
    "    end\n",
    "end"
   ]
  },
  {
   "cell_type": "code",
   "execution_count": 14,
   "metadata": {
    "scrolled": true
   },
   "outputs": [
    {
     "data": {
      "text/plain": [
       "5×5 Matrix{Float64}:\n",
       " 0.453058  0.0       0.0         0.0        0.0\n",
       " 0.799509  0.678214  0.0         0.0        0.0\n",
       " 0.46114   0.586974  0.00707663  0.0        0.0\n",
       " 0.485083  0.718742  0.0399221   0.0477334  0.0\n",
       " 1.62294   1.39543   0.0749327   0.119925   0.0478248"
      ]
     },
     "execution_count": 14,
     "metadata": {},
     "output_type": "execute_result"
    }
   ],
   "source": [
    "x * y"
   ]
  },
  {
   "cell_type": "markdown",
   "metadata": {},
   "source": [
    "2. The inverse of an upper (lower) triangular matrix is upper (lower) triangular."
   ]
  },
  {
   "cell_type": "code",
   "execution_count": 15,
   "metadata": {},
   "outputs": [
    {
     "data": {
      "text/plain": [
       "5×5 Matrix{Float64}:\n",
       "   1.69249      0.0        0.0        0.0     0.0\n",
       "  -1.20695      1.25941    0.0        0.0     0.0\n",
       "  -0.0640628   -0.479083   1.54111    0.0     0.0\n",
       "  12.1073     -12.0441    -7.5099    17.6546  0.0\n",
       " -12.2          2.66799   -4.34615  -13.0596  7.82412"
      ]
     },
     "execution_count": 15,
     "metadata": {},
     "output_type": "execute_result"
    }
   ],
   "source": [
    "inv(x)"
   ]
  },
  {
   "cell_type": "markdown",
   "metadata": {},
   "source": [
    "3. The product of two unit upper (lower) triangular matrices is unit upper (lower) triangular."
   ]
  },
  {
   "cell_type": "code",
   "execution_count": 16,
   "metadata": {},
   "outputs": [],
   "source": [
    "x = zeros(5, 5)\n",
    "y = zeros(5, 5)\n",
    "for i in 1:size(x, 1), j in 1:size(x, 2)\n",
    "    if i > j\n",
    "        x[i, j] = rand()\n",
    "        y[i, j] = rand()\n",
    "    elseif i == j\n",
    "        x[i, j] = 1\n",
    "        y[i, j] = 1\n",
    "    end\n",
    "end"
   ]
  },
  {
   "cell_type": "code",
   "execution_count": 17,
   "metadata": {},
   "outputs": [
    {
     "data": {
      "text/plain": [
       "5×5 Matrix{Float64}:\n",
       " 1.0       0.0       0.0       0.0       0.0\n",
       " 1.37005   1.0       0.0       0.0       0.0\n",
       " 0.278892  0.542211  1.0       0.0       0.0\n",
       " 1.22877   1.34725   0.744644  1.0       0.0\n",
       " 0.953971  0.950556  0.713532  0.904484  1.0"
      ]
     },
     "execution_count": 17,
     "metadata": {},
     "output_type": "execute_result"
    }
   ],
   "source": [
    "x * y"
   ]
  },
  {
   "cell_type": "markdown",
   "metadata": {},
   "source": [
    "4. The inverse of a unit upper (lower) triangular matrix is unit upper (lower) triangular."
   ]
  },
  {
   "cell_type": "code",
   "execution_count": 18,
   "metadata": {},
   "outputs": [
    {
     "data": {
      "text/plain": [
       "5×5 Matrix{Float64}:\n",
       "  1.0        0.0         0.0         0.0       0.0\n",
       " -0.931115   1.0         0.0         0.0       0.0\n",
       " -0.203991  -0.0460428   1.0         0.0       0.0\n",
       " -0.304318  -0.447051   -0.0462887   1.0       0.0\n",
       "  0.135089  -0.184757   -0.128585   -0.404953  1.0"
      ]
     },
     "execution_count": 18,
     "metadata": {},
     "output_type": "execute_result"
    }
   ],
   "source": [
    "inv(x)"
   ]
  },
  {
   "cell_type": "markdown",
   "metadata": {},
   "source": [
    "5. An orthogonal upper (lower) triangular matrix is diagonal."
   ]
  },
  {
   "cell_type": "markdown",
   "metadata": {},
   "source": [
    "Suppose $\\mathbf{A}$ is an orthogonal lower triangular matrix such that $\\mathbf{A} = [a_1, a_2, ..., a_n]$ and $a_i^T \\cdot a_j$ = 0 for $i \\neq j$. Then the last row except $a_{n,n}$ is zero, since $a_i^T \\cdot a_n$ = 0 for $i \\neq n$. Using similar logic, all entries below the diagnoal are zero, so $\\mathbf{A}$ is diagonal."
   ]
  }
 ],
 "metadata": {
  "kernelspec": {
   "display_name": "Julia 1.6.0",
   "language": "julia",
   "name": "julia-1.6"
  },
  "language_info": {
   "file_extension": ".jl",
   "mimetype": "application/julia",
   "name": "julia",
   "version": "1.6.0"
  },
  "toc": {
   "colors": {
    "hover_highlight": "#DAA520",
    "running_highlight": "#FF0000",
    "selected_highlight": "#FFD700"
   },
   "moveMenuLeft": true,
   "nav_menu": {
    "height": "153px",
    "width": "252px"
   },
   "navigate_menu": true,
   "number_sections": false,
   "sideBar": true,
   "skip_h1_title": true,
   "threshold": 4,
   "toc_cell": false,
   "toc_section_display": "block",
   "toc_window_display": true,
   "widenNotebook": false
  },
  "toc-autonumbering": false
 },
 "nbformat": 4,
 "nbformat_minor": 4
}
